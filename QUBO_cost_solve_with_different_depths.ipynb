{
 "cells": [
  {
   "cell_type": "markdown",
   "id": "093e612c",
   "metadata": {
    "tags": []
   },
   "source": [
    "# An example of using the calculation of the cost of the algorithm and its calculation"
   ]
  },
  {
   "cell_type": "code",
   "execution_count": 1,
   "id": "2114d2c2",
   "metadata": {
    "jupyter": {
     "source_hidden": true
    },
    "tags": []
   },
   "outputs": [],
   "source": [
    "#Required packages to be installed\n",
    "#pip install qiskit-optimization\n",
    "#pip install cplex docplex\n",
    "\n"
   ]
  },
  {
   "cell_type": "markdown",
   "id": "1e82fc26",
   "metadata": {},
   "source": [
    "imports of qubo files"
   ]
  },
  {
   "cell_type": "code",
   "execution_count": 2,
   "id": "5c89888b",
   "metadata": {
    "tags": []
   },
   "outputs": [],
   "source": [
    "%%capture\n",
    "import sys\n",
    "import os\n",
    "\n",
    "module_path = os.path.abspath(os.path.join('..'))\n",
    "if module_path not in sys.path:\n",
    "    sys.path.append(module_path)\n",
    "\n",
    "from qubo import AlgoritmQAOA\n",
    "#from costdc import PlatformsViewController\n",
    "from ipynb.fs.full.calccost_for_different_depths import PlatformsViewController"
   ]
  },
  {
   "cell_type": "markdown",
   "id": "999d2e1b",
   "metadata": {},
   "source": [
    "An example of calculating the cost of an algorithm"
   ]
  },
  {
   "cell_type": "code",
   "execution_count": 3,
   "id": "442045d9",
   "metadata": {},
   "outputs": [],
   "source": [
    "nodes = 4\n",
    "\n",
    "# Energy cost for having node occupied. It is negative so it is favourable for having this occupied.\n",
    "weights_nodes = [-2,-2,-2,-2,-2,-2]\n",
    "\n",
    "# Cost for having two connected nodes occupied. This may counteract the positive benefit (weights_nodes)\n",
    "# for having the nodes occupied, and leads to the complexity for the problem.\n",
    "weights_edges = [1,2,2,1]\n",
    "\n",
    "\n",
    "W = [[1, -2  , -2  , -2],\n",
    "     [0, 2, -2 , -2],\n",
    "     [0, 0  , 2, -2],\n",
    "     [0, 0  , 0  , 1],\n",
    "    ]\n",
    "\n",
    "alg = []\n",
    "qc =[]\n",
    "for p in range(1,11):\n",
    "    alg.append( AlgoritmQAOA(W, reps = p ))\n",
    "    qc.append(  alg[p-1].get_circuit() ) \n",
    "    \n"
   ]
  },
  {
   "cell_type": "code",
   "execution_count": 4,
   "id": "3096eda8-d2fb-4805-aa9e-d43e0e2418e0",
   "metadata": {},
   "outputs": [
    {
     "data": {
      "text/plain": [
       "Text(0, 0.5, 'costs in $')"
      ]
     },
     "execution_count": 4,
     "metadata": {},
     "output_type": "execute_result"
    },
    {
     "data": {
      "image/png": "[encoded data removed]",
      "text/plain": [
       "<Figure size 432x288 with 1 Axes>"
      ]
     },
     "metadata": {
      "needs_background": "light"
     },
     "output_type": "display_data"
    }
   ],
   "source": [
    "import  matplotlib.pyplot as plt\n",
    "costs = []\n",
    "for p in range(1,11):\n",
    "    view = PlatformsViewController(qc[p-1])\n",
    "    costs.append( view.get_cost_27(2, 1000) ) \n",
    "plt.plot(range(1,11), costs)\n",
    "plt.xlabel('p')\n",
    "plt.ylabel('costs in $')"
   ]
  },
  {
   "cell_type": "markdown",
   "id": "7829ecdc",
   "metadata": {},
   "source": [
    "Finding the optimal solution"
   ]
  },
  {
   "cell_type": "code",
   "execution_count": null,
   "id": "18aa4e1d",
   "metadata": {},
   "outputs": [],
   "source": [
    "results = []\n",
    "for p in range(1,11):\n",
    "    results.append(alg[p-1].solve())"
   ]
  },
  {
   "cell_type": "markdown",
   "id": "8e7d5b11",
   "metadata": {},
   "source": [
    "Rendering result"
   ]
  },
  {
   "cell_type": "code",
   "execution_count": null,
   "id": "e0a791f0",
   "metadata": {
    "tags": []
   },
   "outputs": [],
   "source": [
    "for p in range(1,11):\n",
    "    vr = alg[p-2].result.get_value_solution()\n",
    "    plot_value(vr)\n",
    "\n"
   ]
  },
  {
   "cell_type": "markdown",
   "id": "ea9fc670-a35c-4355-9a08-2369e9ad4dca",
   "metadata": {},
   "source": [
    "In this simple case there it is monetary disadvantageous to increase p, as there is no accuracy advantage.\n",
    "\n",
    "We need to consider more complex example. \n",
    "\n",
    "There were various problem types that can be formulated a QUBO, [here](https://blog.xa0.de/post/List-of-QUBO-formulations/#fn:S20) and [here](https://or.stackexchange.com/questions/828/what-are-some-real-world-applications-of-qubo/978#978) you find a list of QUBO formulations of problems, QAOA is applicable on for solving it. \n",
    "\n",
    "Another QUBO usecase is **sensor position optimization** described [here](https://crowd-innovation.bmwgroup.com/servlet/hype/IMT?documentTableId=7025714350976893092&userAction=Browse&templateName=&documentId=740c3d47812c470b208a495d85f18206) \n",
    "\n",
    "To keep the considered matrix small, we will consider another use case from Fujitsu presented [here](https://www.youtube.com/watch?v=dA7Nbarm4UM). Reflectors and Lens with different tolerance limits are given and must together comply with the total tolerance.\n",
    "Given five gears of each type, there are 5!= 120 possible combinations. This example consits of a graph with 10 nodes an 5 vertices"
   ]
  },
  {
   "cell_type": "code",
   "execution_count": null,
   "id": "6424cbce-6ea5-4091-879b-14da5cec4bee",
   "metadata": {},
   "outputs": [],
   "source": [
    "\n",
    "reflector_tol= [1.06, 0.99, 1.07, 1.05, 1.06]\n",
    "lens_tol = [1.01, 0.99, 0.98, 0.99, 1.0]\n",
    "\n",
    "#combined_tol is the average of both and neeed to be equal to total_tol\n",
    "\n",
    "total_tol = 1.0\n",
    "# an deviation on 0.025 is allowed\n",
    "\n",
    "#unfinished"
   ]
  },
  {
   "cell_type": "code",
   "execution_count": null,
   "id": "4cb77931-3af6-433c-9981-72fbc296cc66",
   "metadata": {},
   "outputs": [],
   "source": []
  }
 ],
 "metadata": {
  "kernelspec": {
   "display_name": "Python 3 [Womanium]",
   "language": "python",
   "name": "python3_womanium_go14xk"
  },
  "language_info": {
   "codemirror_mode": {
    "name": "ipython",
    "version": 3
   },
   "file_extension": ".py",
   "mimetype": "text/x-python",
   "name": "python",
   "nbconvert_exporter": "python",
   "pygments_lexer": "ipython3",
   "version": "3.9.10"
  }
 },
 "nbformat": 4,
 "nbformat_minor": 5
}
