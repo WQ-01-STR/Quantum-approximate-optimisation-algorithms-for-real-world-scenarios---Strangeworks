{
 "cells": [
  {
   "cell_type": "markdown",
   "id": "9e6ba951",
   "metadata": {},
   "source": [
    "# Optimization pipeline"
   ]
  },
  {
   "cell_type": "markdown",
   "id": "e2ea9405",
   "metadata": {},
   "source": [
    "## QUBO Marix"
   ]
  },
  {
   "cell_type": "code",
   "execution_count": null,
   "id": "1af4c8e4",
   "metadata": {},
   "outputs": [],
   "source": [
    "We have a square matrix W"
   ]
  },
  {
   "cell_type": "code",
   "execution_count": 1,
   "id": "5d089f0e",
   "metadata": {},
   "outputs": [],
   "source": [
    "W = [[153, 510, 706, 966, 581, 455, 70 , 160, 372, 157, 567, 342, 398],\n",
    "     [422, 664, 997, 598, 507, 197, 311, 479, 310, 581, 417, 376, 0  ],\n",
    "     [289, 744, 390, 437, 491, 645, 880, 618, 374, 455, 211, 0  , 0  ],  \n",
    "     [491, 265, 410, 664, 804, 1070,768, 259, 499, 310, 0  , 0  , 0  ],\n",
    "     [400, 514, 902, 990, 1261,947, 418, 635, 636, 0  , 0  , 0  , 0  ], \n",
    "     [168, 522, 634, 910, 593, 19 , 284, 239, 0  , 0  , 0  , 0  , 0  ], \n",
    "     [389, 482, 757, 439, 163, 124, 232, 0  , 0  , 0  , 0  , 0  , 0  ],\n",
    "     [154, 406, 133, 508, 273, 355, 0  , 0  , 0  , 0  , 0  , 0  , 0  ], \n",
    "     [276, 43 , 623, 358, 498, 0  , 0  , 0  , 0  , 0  , 0  , 0  , 0  ],\n",
    "     [318, 898, 633, 761, 0  , 0  , 0  , 0  , 0  , 0  , 0  , 0  , 0  ], \n",
    "     [582, 315, 464, 0  , 0  , 0  , 0  , 0  , 0  , 0  , 0  , 0  , 0  ], \n",
    "     [275, 221, 0  , 0  , 0  , 0  , 0  , 0  , 0  , 0  , 0  , 0  , 0  ], \n",
    "     [247, 0  , 0  , 0  , 0  , 0  , 0  , 0  , 0  , 0  , 0  , 0  , 0  ]]   \n"
   ]
  },
  {
   "cell_type": "markdown",
   "id": "cde03bef",
   "metadata": {},
   "source": [
    "We need to find such a vector <v| = [V1,V2,...,Vn], where n is the number of columns, of the square matrix W, which\n",
    "c = <v|W|v> has a minimum value. Where Vi is a Real number [0, 1]"
   ]
  },
  {
   "cell_type": "markdown",
   "id": "f077ce6d",
   "metadata": {},
   "source": [
    "## calculation qubo sum"
   ]
  },
  {
   "cell_type": "code",
   "execution_count": 25,
   "id": "13b72995",
   "metadata": {},
   "outputs": [],
   "source": [
    "def calc_qubo_value(W, v):\n",
    "    quboSum = 0\n",
    "    for i in range(0,len(v)):\n",
    "        for j in range(0, len(v)):\n",
    "            quboSum += v[i]*W[i][j]*v[j]\n",
    "    return quboSum\n"
   ]
  },
  {
   "cell_type": "markdown",
   "id": "a7ea8cee",
   "metadata": {},
   "source": [
    "## Make random vector"
   ]
  },
  {
   "cell_type": "code",
   "execution_count": 8,
   "id": "9d1a250e",
   "metadata": {},
   "outputs": [],
   "source": [
    "import random\n",
    "def make_random_vector(nsize):\n",
    "    v = [];\n",
    "    for x in range(0, nsize):\n",
    "        v.append(random.random())\n",
    "    return v    \n",
    "    "
   ]
  },
  {
   "cell_type": "code",
   "execution_count": 27,
   "id": "b001d8ad",
   "metadata": {},
   "outputs": [
    {
     "name": "stdout",
     "output_type": "stream",
     "text": [
      "[0.7305669164588439, 0.4630327942338759, 0.5312762592090953, 0.2312036787887688, 0.36423012985153225, 0.919357117492006, 0.8193688093567149, 0.5392017679296712, 0.43118252551167746, 0.7759362415123194, 0.8371283708328532, 0.08949775556818296, 0.3563485460739948]\n"
     ]
    }
   ],
   "source": [
    "vct = make_random_vector(len(W[0]))\n",
    "print(vct)"
   ]
  },
  {
   "cell_type": "code",
   "execution_count": 32,
   "id": "aca9e7cf",
   "metadata": {},
   "outputs": [
    {
     "name": "stdout",
     "output_type": "stream",
     "text": [
      "qubo sum:17195.05721035871\n"
     ]
    }
   ],
   "source": [
    "qubo = calc_qubo_value(W, make_random_vector(len(W[0])))\n",
    "print('qubo sum:' + str(qubo)) "
   ]
  },
  {
   "cell_type": "code",
   "execution_count": null,
   "id": "04b4d07b",
   "metadata": {},
   "outputs": [],
   "source": []
  },
  {
   "cell_type": "code",
   "execution_count": null,
   "id": "54dafd3d",
   "metadata": {},
   "outputs": [],
   "source": []
  }
 ],
 "metadata": {
  "kernelspec": {
   "display_name": "Python 3 (ipykernel)",
   "language": "python",
   "name": "python3"
  },
  "language_info": {
   "codemirror_mode": {
    "name": "ipython",
    "version": 3
   },
   "file_extension": ".py",
   "mimetype": "text/x-python",
   "name": "python",
   "nbconvert_exporter": "python",
   "pygments_lexer": "ipython3",
   "version": "3.9.12"
  }
 },
 "nbformat": 4,
 "nbformat_minor": 5
}
