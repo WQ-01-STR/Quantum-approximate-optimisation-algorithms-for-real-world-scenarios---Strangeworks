{
 "cells": [
  {
   "cell_type": "markdown",
   "id": "3387e479",
   "metadata": {},
   "source": [
    "# Optimization pipeline"
   ]
  },
  {
   "cell_type": "markdown",
   "id": "a58003d7",
   "metadata": {},
   "source": [
    "## QUBO Marix"
   ]
  },
  {
   "cell_type": "markdown",
   "id": "d6385c70",
   "metadata": {},
   "source": [
    "We have a square matrix W"
   ]
  },
  {
   "cell_type": "code",
   "execution_count": 34,
   "id": "73b133cd",
   "metadata": {},
   "outputs": [],
   "source": [
    "import numpy as np\n",
    "W = [[153, 510, 706, 966, 581, 455, 70 , 160, 372, 157, 567, 342, 398],\n",
    "    [0  , 664, 997, 598, 507, 197, 311, 479, 310, 581, 417, 376, 275],\n",
    "    [0  , 0  , 289, 744, 390, 437, 491, 645, 880, 618, 374, 455, 211],  \n",
    "    [0  , 0  , 0  , 491, 265, 410, 664, 804, 1070,768, 259, 499, 310],\n",
    "    [0  , 0  , 0  , 0  , 400, 514, 902, 990, 1261,947, 418, 635, 636], \n",
    "    [0  , 0  , 0  ,0   , 0  , 168, 522, 634, 910, 593, 19 , 284, 239], \n",
    "    [0  , 0  , 0  , 0  ,0  , 0   , 232, 124, 163, 439, 757, 389, 123],\n",
    "    [0  , 0  , 0  , 0  ,0  , 0   , 0  , 154, 406, 133, 508, 273, 355], \n",
    "    [0  , 0  , 0  , 0  ,0  , 0   , 0  , 0  , 276, 43 , 623, 358, 498],\n",
    "    [0  , 0  , 0  , 0  ,0  , 0   , 0  , 0  , 0  , 318, 898, 633, 761], \n",
    "    [0  , 0  , 0  , 0  ,0  , 0   , 0  , 0  , 0  , 0  , 582, 315, 464], \n",
    "    [0  , 0  , 0  , 0  ,0  , 0   , 0  , 0  , 0  , 0  , 0  , 275, 221], \n",
    "    [0  , 0  , 0  , 0  , 0 , 0   , 0  , 0  , 0  , 0  , 0  , 0  , 247]]   \n"
   ]
  },
  {
   "cell_type": "markdown",
   "id": "7a6eee03",
   "metadata": {},
   "source": [
    "We need to find such a vector <v| = [V1,V2,...,Vn], where n is the number of columns, of the square matrix W, which\n",
    "c = <v|W|v> has a minimum value. Where Vi is a Real number [0, 1]"
   ]
  },
  {
   "cell_type": "markdown",
   "id": "b13e5d2f",
   "metadata": {},
   "source": [
    "## calculation qubo sum"
   ]
  },
  {
   "cell_type": "code",
   "execution_count": 35,
   "id": "3972ed9d",
   "metadata": {},
   "outputs": [],
   "source": [
    "def calc_qubo_value(W, v):\n",
    "    quboSum = 0\n",
    "    for i in range(0,len(v)):\n",
    "        for j in range(0, len(v)):\n",
    "            quboSum += v[i]*W[i][j]*v[j]\n",
    "    return quboSum\n"
   ]
  },
  {
   "cell_type": "markdown",
   "id": "a5fcc22e",
   "metadata": {},
   "source": [
    "## Make random vector"
   ]
  },
  {
   "cell_type": "code",
   "execution_count": 36,
   "id": "b37d56a4",
   "metadata": {},
   "outputs": [],
   "source": [
    "import random\n",
    "def make_random_vector(nsize):\n",
    "    v = [];\n",
    "    for x in range(0, nsize):\n",
    "        v.append(random.random())\n",
    "    return v    \n",
    "    "
   ]
  },
  {
   "cell_type": "code",
   "execution_count": 37,
   "id": "9a547d19",
   "metadata": {},
   "outputs": [
    {
     "name": "stdout",
     "output_type": "stream",
     "text": [
      "[0.2479867345564598, 0.721369652454255, 0.9561687237997859, 0.34331435526189835, 0.5569300018928304, 0.5863439784833088, 0.6926191188027525, 0.6641929628097331, 0.04018661203726415, 0.6837627993058603, 0.5617769170322446, 0.1189749297075049, 0.6789212822160954]\n"
     ]
    }
   ],
   "source": [
    "vct = make_random_vector(len(W[0]))\n",
    "print(vct)"
   ]
  },
  {
   "cell_type": "code",
   "execution_count": 38,
   "id": "ca1c5638",
   "metadata": {},
   "outputs": [
    {
     "name": "stdout",
     "output_type": "stream",
     "text": [
      "qubo sum:9248.153785155506\n"
     ]
    }
   ],
   "source": [
    "qubo = calc_qubo_value(W, make_random_vector(len(W[0])))\n",
    "print('qubo sum:' + str(qubo)) "
   ]
  },
  {
   "cell_type": "markdown",
   "id": "b4153b67",
   "metadata": {},
   "source": [
    "## randomize weight matrix "
   ]
  },
  {
   "cell_type": "code",
   "execution_count": 39,
   "id": "6e330d8a",
   "metadata": {},
   "outputs": [],
   "source": [
    "#rng = np.random.default_rng()\n",
    "def random_index(nsize, vindex = []):\n",
    "    if len(vindex) == nsize:\n",
    "        return vindex\n",
    "    index = random.randint(0,nsize-1)\n",
    "#    index = rng.integers(0,nsize-1)\n",
    "    for i in range(0,len(vindex)):\n",
    "        if vindex[i] == index: \n",
    "            return random_index(nsize, vindex)\n",
    "    vindex.append(index)\n",
    "    return random_index(nsize, vindex)\n",
    "    "
   ]
  },
  {
   "cell_type": "code",
   "execution_count": 40,
   "id": "1e560699",
   "metadata": {},
   "outputs": [
    {
     "name": "stdout",
     "output_type": "stream",
     "text": [
      "[0, 3, 6, 9, 4, 5, 8, 2, 1, 7]\n"
     ]
    }
   ],
   "source": [
    "print(random_index(10))"
   ]
  },
  {
   "cell_type": "code",
   "execution_count": 41,
   "id": "ed4ac55b",
   "metadata": {},
   "outputs": [],
   "source": [
    "def randomize_matrix(M, rv):\n",
    "    newM = [([0]*len(M[0])) for i in range(len(M[0]))]\n",
    "    for i in range(0, len(rv)):\n",
    "        for j in range(0, len(rv)):\n",
    "            if i > j:\n",
    "                newM[i][j] = 0\n",
    "            else:\n",
    "                if rv[i] <= rv[j]:\n",
    "                    newM[i][j] = M[rv[i]][rv[j]]\n",
    "                else:\n",
    "                    newM[i][j] = M[rv[j]][rv[i]]\n",
    "    return newM"
   ]
  },
  {
   "cell_type": "code",
   "execution_count": 42,
   "id": "4b40806d",
   "metadata": {},
   "outputs": [
    {
     "name": "stdout",
     "output_type": "stream",
     "text": [
      "[0, 3, 6, 9, 4, 5, 8, 2, 1, 7, 11, 10, 12]\n"
     ]
    }
   ],
   "source": [
    "\n",
    "rv = random_index(len(W[0]))\n",
    "print(rv)\n",
    "newW = randomize_matrix(W, rv)\n"
   ]
  },
  {
   "cell_type": "markdown",
   "id": "a408299d",
   "metadata": {},
   "source": [
    "## Matrix split"
   ]
  },
  {
   "cell_type": "code",
   "execution_count": 43,
   "id": "37aceefa",
   "metadata": {},
   "outputs": [],
   "source": [
    "def split_matrix(M, size):\n",
    "    M1 = []\n",
    "    M2 = []\n",
    "    if len(M) < size:\n",
    "        return []\n",
    "    for i in range(0, size):\n",
    "        M1.append([])\n",
    "        for j in range(0, size):\n",
    "            M1[i].append(M[i][j])\n",
    "    for i in range(size, len(M)):\n",
    "        M2.append([])\n",
    "        for j in range(size, len(M)):\n",
    "            M2[i-size].append(M[i][j])\n",
    "            \n",
    "    return [M1, M2]\n"
   ]
  },
  {
   "cell_type": "code",
   "execution_count": 44,
   "id": "aa490f5b",
   "metadata": {},
   "outputs": [
    {
     "name": "stdout",
     "output_type": "stream",
     "text": [
      "[[[153, 510, 706, 966, 581, 455, 70], [0, 664, 997, 598, 507, 197, 311], [0, 0, 289, 744, 390, 437, 491], [0, 0, 0, 491, 265, 410, 664], [0, 0, 0, 0, 400, 514, 902], [0, 0, 0, 0, 0, 168, 522], [0, 0, 0, 0, 0, 0, 232]], [[154, 406, 133, 508, 273, 355], [0, 276, 43, 623, 358, 498], [0, 0, 318, 898, 633, 761], [0, 0, 0, 582, 315, 464], [0, 0, 0, 0, 275, 221], [0, 0, 0, 0, 0, 247]]]\n"
     ]
    }
   ],
   "source": [
    "listM = split_matrix(W, 7)\n",
    "print(listM)\n"
   ]
  }
 ],
 "metadata": {
  "kernelspec": {
   "display_name": "Python 3 (ipykernel)",
   "language": "python",
   "name": "python3"
  },
  "language_info": {
   "codemirror_mode": {
    "name": "ipython",
    "version": 3
   },
   "file_extension": ".py",
   "mimetype": "text/x-python",
   "name": "python",
   "nbconvert_exporter": "python",
   "pygments_lexer": "ipython3",
   "version": "3.9.12"
  }
 },
 "nbformat": 4,
 "nbformat_minor": 5
}
