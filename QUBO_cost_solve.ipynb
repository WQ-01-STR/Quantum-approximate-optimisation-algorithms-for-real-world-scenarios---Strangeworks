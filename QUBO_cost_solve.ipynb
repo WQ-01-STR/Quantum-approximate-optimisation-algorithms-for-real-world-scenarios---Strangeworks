{
 "cells": [
  {
   "cell_type": "markdown",
   "id": "fe65cc8b",
   "metadata": {},
   "source": [
    "# An example of using the calculation of the cost of the algorithm and its calculation"
   ]
  },
  {
   "cell_type": "code",
   "execution_count": 1,
   "id": "52414bac",
   "metadata": {},
   "outputs": [],
   "source": [
    "#Required packages to be installed\n",
    "#pip install qiskit-optimization\n",
    "#pip install cplex docplex\n"
   ]
  },
  {
   "cell_type": "markdown",
   "id": "cbf098c5",
   "metadata": {},
   "source": [
    "imports of qubo files"
   ]
  },
  {
   "cell_type": "code",
   "execution_count": 2,
   "id": "95a972a2",
   "metadata": {},
   "outputs": [],
   "source": [
    "import sys\n",
    "import os\n",
    "\n",
    "module_path = os.path.abspath(os.path.join('..'))\n",
    "if module_path not in sys.path:\n",
    "    sys.path.append(module_path)\n",
    "\n",
    "from qubo import *\n",
    "from costdc import PlatformsViewController\n"
   ]
  },
  {
   "cell_type": "markdown",
   "id": "07e99085",
   "metadata": {},
   "source": [
    "An example of calculating the cost of an algorithm"
   ]
  },
  {
   "cell_type": "code",
   "execution_count": 3,
   "id": "a1a14c31",
   "metadata": {},
   "outputs": [
    {
     "name": "stdout",
     "output_type": "stream",
     "text": [
      "cost dc with p = 1\n",
      "name: IbmQ_7qubits cost: 0.00000\n",
      "name: IbmQ_27qubits cost: 1.52000\n",
      "name: IbmQ_127qubits cost: 9.02000\n",
      "__________________________________________________________\n",
      "platform: IbmQ_7qubits max number qubits:7\n",
      "basis gates is \n",
      "['id', 'rz', 'sx', 'x', 'cx']\n",
      "Circuit\n",
      "cost: 0.00000\n",
      "cost per circuit: 0.00000\n",
      "cost per access to platform: 0.00000\n",
      "cost per running 1000 shots: 0.00000\n",
      "Cost per task launch (2 times for 1000 shots) : 0.00000\n",
      "__________________________________________________________\n",
      "platform: IbmQ_27qubits max number qubits:27\n",
      "basis gates is \n",
      "['id', 'rz', 'sx', 'x', 'cx']\n",
      "Circuit\n",
      "cost: 1.52000\n",
      "cost per circuit: 0.00066\n",
      "cost per access to platform: 0.10000\n",
      "cost per running 1000 shots: 0.76000\n",
      "Cost per task launch (2 times for 1000 shots) : 1.52000\n",
      "__________________________________________________________\n",
      "platform: IbmQ_127qubits max number qubits:127\n",
      "basis gates is \n",
      "['id', 'rz', 'sx', 'x', 'cx']\n",
      "Circuit\n",
      "cost: 9.02000\n",
      "cost per circuit: 0.00426\n",
      "cost per access to platform: 0.25000\n",
      "cost per running 1000 shots: 4.51000\n",
      "Cost per task launch (2 times for 1000 shots) : 9.02000\n",
      "+++++++++++++++++++++++++++++++++++\n",
      "cost dc with p = 5\n",
      "name: IbmQ_7qubits cost: 0.00000\n",
      "name: IbmQ_27qubits cost: 5.84000\n",
      "name: IbmQ_127qubits cost: 38.62000\n",
      "__________________________________________________________\n",
      "platform: IbmQ_7qubits max number qubits:7\n",
      "basis gates is \n",
      "['id', 'rz', 'sx', 'x', 'cx']\n",
      "Circuit\n",
      "cost: 0.00000\n",
      "cost per circuit: 0.00000\n",
      "cost per access to platform: 0.00000\n",
      "cost per running 1000 shots: 0.00000\n",
      "Cost per task launch (2 times for 1000 shots) : 0.00000\n",
      "__________________________________________________________\n",
      "platform: IbmQ_27qubits max number qubits:27\n",
      "basis gates is \n",
      "['id', 'rz', 'sx', 'x', 'cx']\n",
      "Circuit\n",
      "cost: 5.84000\n",
      "cost per circuit: 0.00282\n",
      "cost per access to platform: 0.10000\n",
      "cost per running 1000 shots: 2.92000\n",
      "Cost per task launch (2 times for 1000 shots) : 5.84000\n",
      "__________________________________________________________\n",
      "platform: IbmQ_127qubits max number qubits:127\n",
      "basis gates is \n",
      "['id', 'rz', 'sx', 'x', 'cx']\n",
      "Circuit\n",
      "cost: 38.62000\n",
      "cost per circuit: 0.01906\n",
      "cost per access to platform: 0.25000\n",
      "cost per running 1000 shots: 19.31000\n",
      "Cost per task launch (2 times for 1000 shots) : 38.62000\n"
     ]
    }
   ],
   "source": [
    "W = [[1, 1  , 1  , 2],\n",
    "     [0, 1.4, 1  , 4],\n",
    "     [0, 0  , 1.5, 2],\n",
    "     [0, 0  , 0  , 2],\n",
    "    ]\n",
    "alg = AlgoritmQAOA(W)\n",
    "qc = alg.get_circuit()\n",
    "print('cost dc with p = 1')\n",
    "view = PlatformsViewController(qc)\n",
    "view.print_list_cost_platforms(2, 1000)\n",
    "view.print_list_card_of_platfotm(2, 1000)\n",
    "print('+++++++++++++++++++++++++++++++++++')\n",
    "\n",
    "print('cost dc with p = 5')\n",
    "qc = alg.get_circuit(5)\n",
    "view = PlatformsViewController(qc)\n",
    "view.print_list_cost_platforms(2, 1000)\n",
    "view.print_list_card_of_platfotm(2, 1000)\n",
    "\n"
   ]
  },
  {
   "cell_type": "markdown",
   "id": "7e287f8a",
   "metadata": {},
   "source": [
    "Finding the optimal solution"
   ]
  },
  {
   "cell_type": "code",
   "execution_count": 4,
   "id": "a66226a7",
   "metadata": {},
   "outputs": [],
   "source": [
    "result = alg.solve()"
   ]
  },
  {
   "cell_type": "markdown",
   "id": "124b0040",
   "metadata": {},
   "source": [
    "Rendering result"
   ]
  },
  {
   "cell_type": "code",
   "execution_count": 5,
   "id": "1a717a39",
   "metadata": {},
   "outputs": [
    {
     "data": {
      "image/png": "[encoded data removed]",
      "text/plain": [
       "<Figure size 504x360 with 1 Axes>"
      ]
     },
     "execution_count": 5,
     "metadata": {},
     "output_type": "execute_result"
    }
   ],
   "source": [
    "from qiskit.visualization import plot_histogram\n",
    "r = alg.result.get_probability_solution()\n",
    "plot_histogram(r)"
   ]
  },
  {
   "cell_type": "code",
   "execution_count": 6,
   "id": "439b3035",
   "metadata": {},
   "outputs": [
    {
     "data": {
      "image/png": "[encoded data removed]",
      "text/plain": [
       "<Figure size 432x288 with 1 Axes>"
      ]
     },
     "metadata": {
      "needs_background": "light"
     },
     "output_type": "display_data"
    }
   ],
   "source": [
    "vr = alg.result.get_value_solution()\n",
    "plot_value(vr)"
   ]
  },
  {
   "cell_type": "code",
   "execution_count": 1,
   "id": "bba4bb9d",
   "metadata": {},
   "outputs": [
    {
     "ename": "NameError",
     "evalue": "name 'draw_graph_solution' is not defined",
     "output_type": "error",
     "traceback": [
      "\u001b[1;31m---------------------------------------------------------------------------\u001b[0m",
      "\u001b[1;31mNameError\u001b[0m                                 Traceback (most recent call last)",
      "Input \u001b[1;32mIn [1]\u001b[0m, in \u001b[0;36m<cell line: 1>\u001b[1;34m()\u001b[0m\n\u001b[1;32m----> 1\u001b[0m \u001b[43mdraw_graph_solution\u001b[49m(alg)\n",
      "\u001b[1;31mNameError\u001b[0m: name 'draw_graph_solution' is not defined"
     ]
    }
   ],
   "source": [
    "draw_graph_solution(alg)"
   ]
  },
  {
   "cell_type": "code",
   "execution_count": null,
   "id": "58e316c7",
   "metadata": {},
   "outputs": [],
   "source": []
  }
 ],
 "metadata": {
  "kernelspec": {
   "display_name": "Python 3 (ipykernel)",
   "language": "python",
   "name": "python3"
  },
  "language_info": {
   "codemirror_mode": {
    "name": "ipython",
    "version": 3
   },
   "file_extension": ".py",
   "mimetype": "text/x-python",
   "name": "python",
   "nbconvert_exporter": "python",
   "pygments_lexer": "ipython3",
   "version": "3.9.12"
  }
 },
 "nbformat": 4,
 "nbformat_minor": 5
}
