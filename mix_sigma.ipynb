{
 "cells": [
  {
   "cell_type": "markdown",
   "id": "5a99b6f6-9e5d-4b3b-b976-c89af69389b0",
   "metadata": {},
   "source": [
    "## weight matrixes for real industrial problems"
   ]
  },
  {
   "cell_type": "markdown",
   "id": "77e9606d-6cd7-40a6-8b83-52e4afb20041",
   "metadata": {},
   "source": [
    "There were various problem types that can be formulated a QUBO, [here](https://blog.xa0.de/post/List-of-QUBO-formulations/#fn:S20) you find a list of QUBO formulations of problems, QAOA is applicable on for solving it. We will focus on indutrsy use cases"
   ]
  },
  {
   "cell_type": "markdown",
   "id": "fd323a2d-8841-4176-a72f-64a61bb2a44b",
   "metadata": {},
   "source": [
    "For the **binary paint shop problem**, a performance advantage through QAOA compared to classical heuritsic is showed in reference 2 . A examplatory implementation can be found [here](https://quantumai.google/cirq/experiments/qaoa/binary_paintshop).\n",
    "\n",
    "Another QUBO usecase is **sensor position optimization** described [here](https://crowd-innovation.bmwgroup.com/servlet/hype/IMT?documentTableId=7025714350976893092&userAction=Browse&templateName=&documentId=740c3d47812c470b208a495d85f18206) and [here](https://or.stackexchange.com/questions/828/what-are-some-real-world-applications-of-qubo/978#978)\n",
    "\n",
    "To keep the considered matrix small, we will consider another use case from Fujitsu presented [here](https://www.youtube.com/watch?v=dA7Nbarm4UM). Reflectors and Lens with different tolerance limits are given and must together comply with the total tolerance.\n",
    "Given five gears of each type, there are 5!= 120 possible combinations.\n",
    "\n"
   ]
  },
  {
   "cell_type": "code",
   "execution_count": 8,
   "id": "3f20f1c9-206f-4160-aff6-c254de387d66",
   "metadata": {},
   "outputs": [
    {
     "name": "stdout",
     "output_type": "stream",
     "text": [
      "10\n"
     ]
    }
   ],
   "source": [
    "import numpy as np\n",
    "\n",
    "reflector_tol= [1.06, 0.99, 1.07, 1.05, 1.06]\n",
    "lens_tol = [1.01, 0.99, 0.98, 0.99, 1.0]\n",
    "\n",
    "#combined_tol is the average of both and neeed to be equal to total_tol\n",
    "\n",
    "total_tol = 1.0\n",
    "# an deviation on 0.025 is allowed\n",
    "\n",
    "###minimize qubo_sum= P (1- x_i/2 - x_j/2 + x_i * x_j) for <i,j>. penalty for the constrain ( x_i+x_j )/ 2 = 1. choose P = 2\n",
    "\n",
    "\n",
    "values = []\n",
    "for tolx in reflector_tol:\n",
    "    values.append(tolx)\n",
    "for toly in lens_tol:\n",
    "    values.append(toly)\n",
    "    \n",
    "W= np.diag(values)  \n",
    "values = []\n",
    "for tolx in reflector_tol:\n",
    "    for toly in lens_tol:\n",
    "        W[reflector_tol.index(tolx)][lens_tol.index(toly)] = tolx*toly\n",
    " \n",
    "             \n",
    "W[np.triu_indices(10, k=1)]\n",
    "\n",
    "print(len(W))\n",
    "             \n",
    "        "
   ]
  },
  {
   "cell_type": "code",
   "execution_count": 9,
   "id": "3e3cd0a8",
   "metadata": {},
   "outputs": [
    {
     "name": "stdout",
     "output_type": "stream",
     "text": [
      "[[1.0706 1.0494 1.0388 0.     1.06   0.     0.     0.     0.     0.    ]\n",
      " [0.9999 0.9801 0.9702 0.     0.99   0.     0.     0.     0.     0.    ]\n",
      " [1.0807 1.0593 1.0486 0.     1.07   0.     0.     0.     0.     0.    ]\n",
      " [1.0605 1.0395 1.029  1.05   1.05   0.     0.     0.     0.     0.    ]\n",
      " [0.     0.     0.     0.     1.06   0.     0.     0.     0.     0.    ]\n",
      " [0.     0.     0.     0.     0.     1.01   0.     0.     0.     0.    ]\n",
      " [0.     0.     0.     0.     0.     0.     0.99   0.     0.     0.    ]\n",
      " [0.     0.     0.     0.     0.     0.     0.     0.98   0.     0.    ]\n",
      " [0.     0.     0.     0.     0.     0.     0.     0.     0.99   0.    ]\n",
      " [0.     0.     0.     0.     0.     0.     0.     0.     0.     1.    ]]\n"
     ]
    }
   ],
   "source": [
    "print(W)"
   ]
  },
  {
   "cell_type": "markdown",
   "id": "47e2f447-f7d9-4ac1-bff5-b0656f3dd8ea",
   "metadata": {},
   "source": [
    "## References<a id=\"references\"></a>\n",
    "2. Streif, Michael, et al. \"Beating classical heuristics for the binary paint shop problem with the quantum approximate optimization algorithm.\" Physical Review A 104.1 (2021): 012403.\n"
   ]
  },
  {
   "cell_type": "code",
   "execution_count": null,
   "id": "84649b96",
   "metadata": {},
   "outputs": [],
   "source": []
  },
  {
   "cell_type": "code",
   "execution_count": null,
   "id": "c5b04e4e-3ebe-4ec3-ad2b-bcca7e580138",
   "metadata": {},
   "outputs": [],
   "source": []
  }
 ],
 "metadata": {
  "kernelspec": {
   "display_name": "Python 3 (ipykernel)",
   "language": "python",
   "name": "python3"
  },
  "language_info": {
   "codemirror_mode": {
    "name": "ipython",
    "version": 3
   },
   "file_extension": ".py",
   "mimetype": "text/x-python",
   "name": "python",
   "nbconvert_exporter": "python",
   "pygments_lexer": "ipython3",
   "version": "3.9.12"
  }
 },
 "nbformat": 4,
 "nbformat_minor": 5
}
