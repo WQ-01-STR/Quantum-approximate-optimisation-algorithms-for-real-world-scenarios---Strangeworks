{
 "cells": [
  {
   "cell_type": "markdown",
   "id": "efce7dd0",
   "metadata": {},
   "source": [
    "# Common import"
   ]
  },
  {
   "cell_type": "code",
   "execution_count": 28,
   "id": "184d3101",
   "metadata": {},
   "outputs": [],
   "source": [
    "from qiskit import QuantumCircuit\n",
    "from qiskit.circuit import Parameter\n",
    "from qiskit.tools.visualization import circuit_drawer\n",
    "from qiskit import Aer\n",
    "from qiskit import execute\n",
    "from qiskit import transpile\n",
    "from qiskit.providers.aer import AerSimulator\n",
    "from qiskit.providers.aer.noise import NoiseModel, amplitude_damping_error\n",
    "from qiskit.providers.models.backendconfiguration import QasmBackendConfiguration\n",
    "\n",
    "\n",
    "import numpy as np\n",
    "import scipy.sparse.linalg as sla\n",
    "import copy\n",
    "import networkx as nx\n",
    "import matplotlib.pyplot as plt\n",
    "import random\n",
    "from itertools import combinations, groupby\n",
    "\n",
    "\n"
   ]
  },
  {
   "cell_type": "code",
   "execution_count": 29,
   "id": "d9a8df65",
   "metadata": {},
   "outputs": [],
   "source": [
    "#filter dictionary"
   ]
  },
  {
   "cell_type": "code",
   "execution_count": 30,
   "id": "cb748004",
   "metadata": {},
   "outputs": [],
   "source": [
    "def filterTheDict(dictObj, callback):\n",
    "    newDict = dict()\n",
    "    # Iterate over all the items in dictionary\n",
    "    for (key, value) in dictObj.items():\n",
    "        # Check if item satisfies the given condition then add to new dict\n",
    "        if callback((key, value)):\n",
    "            newDict[key] = value\n",
    "    return newDict"
   ]
  },
  {
   "cell_type": "markdown",
   "id": "51cf4f86",
   "metadata": {},
   "source": [
    "# Print gates of the QuantumCircuit"
   ]
  },
  {
   "cell_type": "code",
   "execution_count": 79,
   "id": "e27a3180",
   "metadata": {},
   "outputs": [],
   "source": [
    "\n",
    "\n",
    "def print_gates(qc):\n",
    "    print(len(qc.data))\n",
    "        #for gate in qc.data:\n",
    "    #   print('\\ngate name:', gate[0].name) \n",
    "\n"
   ]
  },
  {
   "cell_type": "markdown",
   "id": "47d03b11",
   "metadata": {},
   "source": [
    "# Description of gates"
   ]
  },
  {
   "cell_type": "code",
   "execution_count": 32,
   "id": "7aee5c4f",
   "metadata": {},
   "outputs": [],
   "source": [
    "#Description Gates\n",
    "class Gates:\n",
    "    #dictionary {name gate: number qubit}\n",
    "    gates = {'cx': 2}\n",
    "    #get number qubits for gate\n",
    "    @staticmethod    \n",
    "    def get_number_qubits(gate_name):\n",
    "        if gate_name not in Gates.gates:\n",
    "            return 1\n",
    "        return Gates.gates.get(gate_name)"
   ]
  },
  {
   "cell_type": "markdown",
   "id": "1a4a55f7",
   "metadata": {},
   "source": [
    "# Class of the Platform"
   ]
  },
  {
   "cell_type": "code",
   "execution_count": 33,
   "id": "8407cdb0",
   "metadata": {},
   "outputs": [],
   "source": [
    "class QPlatform:\n",
    "    #nqubit - max number of qubits on platform\n",
    "    #basis_gates_price - is dictionary of price gates accessed on the platform\n",
    "    def __init__(self, nqubit, basis_gates_price, stuffs_price):\n",
    "        self.nqubit = nqubit\n",
    "        self.basis_gates_price = basis_gates_price\n",
    "        self.stuffs_price = stuffs_price\n",
    "        noise_model = NoiseModel()\n",
    "        noise_model.add_basis_gates(self.get_basis_gates())\n",
    "        self.simulator = AerSimulator(noise_model=noise_model)\n",
    "\n",
    "    #return array of basis_gates       \n",
    "    def get_basis_gates(self):\n",
    "        return list(self.basis_gates_price.keys())\n",
    "    #get price of stuff\n",
    "    def get_stuff_price(self, stuff_name):\n",
    "        if stuff_name not in self.stuffs_price:\n",
    "            return 0.0\n",
    "        return self.stuffs_price.get(stuff_name)\n",
    "    #get price of basis gate\n",
    "    def get_gate_price(self, gate_name):\n",
    "        if gate_name not in self.basis_gates_price:\n",
    "            return 0.0\n",
    "        return self.basis_gates_price.get(gate_name)\n",
    "    #get cost of circuit item\n",
    "    def get_cost_circuit_item(self, item_name):\n",
    "        return self.get_gate_price(item_name)* Gates.get_number_qubits(item_name) + self.get_stuff_price(item_name)\n",
    "\n",
    "    #set and convert the circuit to basis gates circuit\n",
    "    def set_basis_circuit(self, circuit):\n",
    "        self.qc_basis = transpile(circuit, self.simulator)\n",
    "        return self.qc_basis\n",
    "    #get basis circuit\n",
    "    def get_basis_circuit(self):\n",
    "        return self.qc_basis\n",
    "    #cost of circuit\n",
    "    def cost_circuit(self):\n",
    "        cost = 0.0\n",
    "        for gate in self.qc_basis.data:\n",
    "            cost += self.get_cost_circuit_item(gate[0].name)\n",
    "        return cost\n",
    "    #cost of access to platphorm\n",
    "    def cost_access(self):\n",
    "        return self.get_stuff_price('access')\n",
    "    #cost of running circuit\n",
    "    def cost_running(self, shots):\n",
    "        return shots*self.cost_circuit() + self.cost_access()\n",
    "    #cost of multi running circuit\n",
    "    def cost_multi_running(self, count, shots):\n",
    "        return count * self.cost_running(shots)\n",
    "    #cost task\n",
    "    def cost(self, circuit, count, shots):\n",
    "        self.set_basis_circuit(circuit)\n",
    "        return self.cost_multi_running(count, shots)\n",
    "    \n",
    "    "
   ]
  },
  {
   "cell_type": "markdown",
   "id": "ba041666",
   "metadata": {},
   "source": [
    "# Platform factory"
   ]
  },
  {
   "cell_type": "markdown",
   "id": "ef415868",
   "metadata": {},
   "source": [
    "IbmQ platform factory"
   ]
  },
  {
   "cell_type": "code",
   "execution_count": 34,
   "id": "9a1260ca",
   "metadata": {},
   "outputs": [],
   "source": [
    "def get_ibmq_basis_gates():\n",
    "    return ['id', 'rz', 'sx', 'x', 'cx'];"
   ]
  },
  {
   "cell_type": "code",
   "execution_count": 35,
   "id": "a810b515",
   "metadata": {},
   "outputs": [],
   "source": [
    "def get_common_price(gates, price):\n",
    "    return  { i : price for i in gates }"
   ]
  },
  {
   "cell_type": "code",
   "execution_count": 36,
   "id": "3791014e",
   "metadata": {},
   "outputs": [],
   "source": [
    "def get_price_gates_ibmq_127():\n",
    "    return {\n",
    "        'id': 0.0,\n",
    "        'rz': 0.00003,\n",
    "        'sx': 0.00008,\n",
    "        'x':0.00008,\n",
    "        'cx': 0.0001\n",
    "    }"
   ]
  },
  {
   "cell_type": "code",
   "execution_count": 37,
   "id": "81a75fdb",
   "metadata": {},
   "outputs": [],
   "source": [
    "def ibmq_7_factory():\n",
    "    return QPlatform(7, get_common_price(get_ibmq_basis_gates(), 0.0), {'access':0.0, 'measure':0.0})\n",
    "def ibmq_27_factory():\n",
    "    return QPlatform(27, get_common_price(get_ibmq_basis_gates(), 0.00001), {'access':0.1, 'measure':0.00001})\n",
    "def ibmq_127_factory():\n",
    "    return QPlatform(127, get_price_gates_ibmq_127(), {'access':0.25, 'measure':0.00001})\n",
    "\n"
   ]
  },
  {
   "cell_type": "markdown",
   "id": "090dc51c",
   "metadata": {},
   "source": [
    "Ionq platform factory"
   ]
  },
  {
   "cell_type": "code",
   "execution_count": 38,
   "id": "b1b9c834",
   "metadata": {},
   "outputs": [],
   "source": [
    "#from qiskit_ionq import IonQProvider\n",
    "\n",
    "#def get_ionq_gates():\n",
    "#    provider = IonQProvider()\n",
    "#    simulator_backend = provider.get_backend(\"ionq_simulator\")\n",
    "#    return simulator_backend.configuration().basis_gates\n",
    "#def ionq_factory():\n",
    "#    return QPlatform(20, get_common_price(get_ionq_gates(), 0.00001), {'access':0.25, 'measure':0.0001})\n",
    "\n"
   ]
  },
  {
   "cell_type": "markdown",
   "id": "833594da",
   "metadata": {},
   "source": [
    "# Available Platforms for circuit"
   ]
  },
  {
   "cell_type": "code",
   "execution_count": 39,
   "id": "ca3578c2",
   "metadata": {},
   "outputs": [],
   "source": [
    "# Available Platforms for circuit\n",
    "class AvailablePlatforms:\n",
    "    #constructor \n",
    "    def __init__(self, circuit):\n",
    "        self.platforms = {\n",
    "             'IbmQ_7qubits': ibmq_7_factory(),\n",
    "             'IbmQ_27qubits': ibmq_27_factory(),\n",
    "             'IbmQ_127qubits': ibmq_127_factory(),\n",
    "#             'IonQ': ionq_factory()\n",
    "        }\n",
    "        for key in self.platforms:\n",
    "            self.platforms[key].set_basis_circuit(circuit)\n",
    "           \n",
    "        self.circuit = circuit\n",
    "\n",
    "    #get suite platforms for circuit\n",
    "    def get_suite_platforms(self):\n",
    "        num_qubits = self.circuit.num_qubits\n",
    "        return filterTheDict(self.platforms, lambda elem: elem[1].nqubit >= num_qubits)\n",
    "    #get keys of all platforms\n",
    "    def get_name_platforms(self):\n",
    "        return list(self.platforms.keys())\n",
    "    #get keys of suite platforms\n",
    "    def get_name_suite_platforms(self):\n",
    "        return list(self.get_suite_platforms().keys())\n",
    "    #get cost of platform\n",
    "    def get_cost_platform(self, platform_name, count, shots):\n",
    "        if platform_name not in self.platforms:\n",
    "            return 0.0\n",
    "        return self.platforms.get(platform_name).cost(self.circuit, count, shots)\n",
    "    #get basis gate circuit     \n",
    "    def get_basis_circuit(self,platform_name):\n",
    "        if platform_name not in self.platforms:\n",
    "            return self.circuit\n",
    "        return self.platforms.get(platform_name).get_basis_circuit()\n",
    "        #get basis gate circuit     \n",
    "    def get_basis_gates(self,platform_name):\n",
    "        if platform_name not in self.platforms:\n",
    "            return []\n",
    "        return self.platforms.get(platform_name).get_basis_gates()\n",
    "\n",
    "    #is platform suite for circuit\n",
    "    def is_suite(self, platform_name):\n",
    "        return platform_name in self.get_suite_platforms()\n",
    "    #get max qubits\n",
    "    def get_number_qubits(self, platform_name):\n",
    "        if platform_name not in self.platforms:\n",
    "            return 0\n",
    "        return self.platforms.get(platform_name).nqubit\n",
    "    #cost of circuit\n",
    "    def cost_circuit(self, platform_name):\n",
    "        if platform_name not in self.platforms:\n",
    "            return 0.0\n",
    "        return self.platforms.get(platform_name).cost_circuit()\n",
    "    #cost of access to platphorm\n",
    "    def cost_access(self, platform_name):\n",
    "        if platform_name not in self.platforms:\n",
    "            return 0.0\n",
    "        return self.platforms.get(platform_name).cost_access()\n",
    "    #cost of running circuit\n",
    "    def cost_running(self, platform_name, shots):\n",
    "        if platform_name not in self.platforms:\n",
    "            return 0.0\n",
    "        return self.platforms.get(platform_name).cost_running(shots)\n",
    "    #cost of multi running circuit\n",
    "    def cost_multi_running(self, platform_name, count, shots):\n",
    "        if platform_name not in self.platforms:\n",
    "            return 0.0\n",
    "        return self.platforms.get(platform_name).cost_multi_running(count, shots)\n",
    "   \n",
    "        \n",
    "                 "
   ]
  },
  {
   "cell_type": "markdown",
   "id": "c69d5378",
   "metadata": {},
   "source": [
    "# PlatformsViewController"
   ]
  },
  {
   "cell_type": "code",
   "execution_count": 98,
   "id": "88c218f6",
   "metadata": {},
   "outputs": [],
   "source": [
    "class PlatformsViewController:\n",
    "    #constructor \n",
    "    def __init__(self, circuit):\n",
    "        self.platforms = AvailablePlatforms(circuit)\n",
    "    #get available platforms\n",
    "    def platforms():\n",
    "        return self.platforms\n",
    "    #print list platform\n",
    "    def print_platforms(self, list_name_platforms):\n",
    "        for platform_name in list_name_platforms:\n",
    "            print(platform_name) \n",
    "    def print_all_platforms(self):\n",
    "        self.print_platforms(self.platforms.get_name_platforms())\n",
    "    def print_suite_platforms(self):\n",
    "        self.print_platforms(self.platforms.get_name_suite_platforms())\n",
    "    def print_list_cost_platforms(self, count, shots):\n",
    "        cost = []\n",
    "        for platform_name in self.platforms.get_name_platforms():\n",
    "            if  self.platforms.is_suite(platform_name):\n",
    "                print('name: ' + platform_name + ' cost: ' + f'{self.platforms.get_cost_platform(platform_name, count, shots):.5f}')\n",
    "            else:\n",
    "                print('name: ' + platform_name + ' is not available for this circuit')\n",
    "                \n",
    "    def get_cost_7(self, count, shots):\n",
    "        return self.platforms.get_cost_platform('IbmQ_7qubits', count, shots)\n",
    "    \n",
    "    def get_cost_27(self, count, shots):\n",
    "        return self.platforms.get_cost_platform('IbmQ_27qubits', count, shots)\n",
    "    \n",
    "    def get_cost_127(self, count, shots):\n",
    "        return self.platforms.get_cost_platform('IbmQ_127qubits', count, shots)    \n",
    "    \n",
    "    def print_card_of_platform(self, platform_name):\n",
    "        print('__________________________________________________________')\n",
    "        print('platform: ' + platform_name + ' max number qubits:' + str(self.platforms.get_number_qubits(platform_name)))\n",
    "        print('basis gates is ')\n",
    "        print(self.platforms.get_basis_gates(platform_name))\n",
    "        print('Circuit')\n",
    "        cir = self.platforms.get_basis_circuit(platform_name)\n",
    "        #print(cir)\n",
    "        #cir.draw(output='mpl')\n",
    "        \n",
    "        \n",
    "    def print_card_of_suite_platfotm(self, platform_name, count, shots):\n",
    "        self.print_card_of_platform(platform_name)\n",
    "        print('cost: ' + f'{self.platforms.get_cost_platform(platform_name, count, shots):.5f}')\n",
    "        print('cost per circuit: ' + f'{self.platforms.cost_circuit(platform_name):.5f}')\n",
    "        print('cost per access to platform: ' + f'{self.platforms.cost_access(platform_name):.5f}')\n",
    "        print('cost per running ' + str(shots) + ' shots: ' + f'{self.platforms.cost_running(platform_name, shots):.5f}')\n",
    "        print('Cost per task launch (' + str(count) + ' times for ' + str(shots) + ' shots) : ' + f'{self.platforms.cost_multi_running(platform_name, count, shots):.5f}')\n",
    "        \n",
    "        \n",
    "\n",
    "\n",
    "        \n",
    "    def print_card_of_not_suite_platfotm(self, platform_name):\n",
    "        self.print_card_of_platform(platform_name)\n",
    "        print('Platform is not available for this circuit')\n",
    "        \n",
    "        \n",
    "    def print_list_card_of_platfotm(self, count, shots):\n",
    "        for platform_name in self.platforms.get_name_platforms():\n",
    "            if  self.platforms.is_suite(platform_name):\n",
    "                self.print_card_of_suite_platfotm(platform_name, count, shots)\n",
    "            else:\n",
    "                self.print_card_of_not_suite_platfotm(platform_name)\n",
    "    "
   ]
  },
  {
   "cell_type": "markdown",
   "id": "48e31f38",
   "metadata": {},
   "source": [
    "# Creating circuit QAOA"
   ]
  },
  {
   "cell_type": "code",
   "execution_count": 99,
   "id": "9fd6f106",
   "metadata": {},
   "outputs": [],
   "source": [
    "# We will also bring the different circuit components that\n",
    "# build the qaoa circuit under a single function\n",
    "def create_qaoa_circ(G, theta):\n",
    "    \n",
    "    \"\"\"\n",
    "    Creates a parametrized qaoa circuit\n",
    "    \n",
    "    Args:  \n",
    "        G: networkx graph\n",
    "        theta: list\n",
    "               unitary parameters\n",
    "                     \n",
    "    Returns:\n",
    "        qc: qiskit circuit\n",
    "    \"\"\"\n",
    "    \n",
    "    nqubits = len(G.nodes())\n",
    "    p = len(theta)//2  # number of alternating unitaries\n",
    "    qc = QuantumCircuit(nqubits)\n",
    "    \n",
    "    beta = theta[:p]\n",
    "    gamma = theta[p:]\n",
    "    \n",
    "    # initial_state\n",
    "    for i in range(0, nqubits):\n",
    "        qc.h(i)\n",
    "    \n",
    "    for irep in range(0, p):\n",
    "        \n",
    "        # problem unitary\n",
    "        for nod in list(G.nodes()):\n",
    "            qc.rz(2 * gamma[irep]*G.nodes[nod][\"weight\"], nod)\n",
    "            \n",
    "            \n",
    "        for pair in list(G.edges()):\n",
    "            qc.rzz(2 * gamma[irep]*G.edges[pair][\"weight\"], pair[0], pair[1])\n",
    "\n",
    "        # mixer unitary\n",
    "        for i in range(0, nqubits):\n",
    "            qc.rx(2 * beta[irep], i)\n",
    "            \n",
    "    qc.measure_all()\n",
    "        \n",
    "    return qc\n"
   ]
  },
  {
   "cell_type": "markdown",
   "id": "14bbefa8",
   "metadata": {},
   "source": [
    "# Creating a graph"
   ]
  },
  {
   "cell_type": "code",
   "execution_count": 100,
   "id": "087fcb60",
   "metadata": {},
   "outputs": [],
   "source": [
    "def get_graph():\n",
    "    nodes = 4\n",
    "\n",
    "    # Energy cost for having node occupied. It is negative so it is favourable for having this occupied.\n",
    "    weights_nodes = [-2,-2,-2,-2,-2,-2]\n",
    "\n",
    "    # Cost for having two connected nodes occupied. This may counteract the positive benefit (weights_nodes)\n",
    "    # for having the nodes occupied, and leads to the complexity for the problem.\n",
    "    weights_edges = [1,2,2,1]\n",
    "\n",
    "    random.seed(1)\n",
    "\n",
    "    G = nx.Graph()\n",
    "    for nn in range(0,nodes):\n",
    "        G.add_nodes_from([(nn,{'weight': weights_nodes[nn]})])\n",
    "    \n",
    "\n",
    "    edges = combinations(range(nodes), 2)\n",
    "    iter=0\n",
    "    for _, node_edges in groupby(edges, key=lambda x: x[0]):\n",
    "        node_edges = list(node_edges)\n",
    "        random_edge = random.choice(node_edges)\n",
    "        G.add_edges_from([(random_edge[0], random_edge[1],{'weight': weights_edges[iter]})])\n",
    "        iter += 1\n",
    "\n",
    "        for e in node_edges:\n",
    "            if random.random() < 0.4:\n",
    "                G.add_edges_from([(e[0], e[1],{'weight': weights_edges[iter]})])\n",
    "                iter += 1\n",
    "    return G\n",
    "\n",
    "#plt.figure(figsize=(8,5))\n",
    "#nx.draw(G, node_color='lightblue', \n",
    "#        with_labels=True, \n",
    "#        node_size=500)\n",
    "\n",
    "    "
   ]
  },
  {
   "cell_type": "markdown",
   "id": "5d87d820",
   "metadata": {},
   "source": [
    "# Building qaoa for graph"
   ]
  },
  {
   "cell_type": "code",
   "execution_count": 101,
   "id": "f714ee6e",
   "metadata": {},
   "outputs": [],
   "source": [
    "def build_qaoa_circuit(p):\n",
    "    #p = 2\n",
    "    theta0 = [1.0]*2*p\n",
    "    # Number of quantum measurements each time the quantum circuit is called\n",
    "    shotsin = 200\n",
    "\n",
    "    # We have random outcomes for the measurements.\n",
    "    # So for the simulation it is good practice to seed the random number generator\n",
    "    seed = 2\n",
    "    G = get_graph()\n",
    "    qc = create_qaoa_circ(G, theta0)\n",
    "    return qc\n",
    "\n"
   ]
  },
  {
   "cell_type": "markdown",
   "id": "a2e171f9",
   "metadata": {},
   "source": [
    "# Build and draw qaoa"
   ]
  },
  {
   "cell_type": "code",
   "execution_count": 102,
   "id": "ed18df41",
   "metadata": {},
   "outputs": [],
   "source": [
    "import numpy\n",
    "qc= []\n",
    "for p in range(2,11):\n",
    "    qc.append(build_qaoa_circuit(p))\n",
    "    #qc[p-2].draw(\"mpl\")"
   ]
  },
  {
   "cell_type": "markdown",
   "id": "91fc38b1",
   "metadata": {},
   "source": [
    "# Convert circuit to basis gates of IBMQ"
   ]
  },
  {
   "cell_type": "code",
   "execution_count": 103,
   "id": "c717294a",
   "metadata": {},
   "outputs": [],
   "source": [
    "def get_IBMQ_noise(qc):\n",
    "    noise_model = NoiseModel()\n",
    "    noise_model.add_basis_gates(['id', 'rz', 'sx', 'x', 'cx'])\n",
    "    sim_noise = AerSimulator(noise_model=noise_model)\n",
    "\n",
    "    qc_noise = transpile(qc, sim_noise)\n",
    "    return qc_noise\n",
    "    "
   ]
  },
  {
   "cell_type": "markdown",
   "id": "c0cffbcc",
   "metadata": {},
   "source": [
    "# Convert qc to IBMQ qc"
   ]
  },
  {
   "cell_type": "code",
   "execution_count": 104,
   "id": "1c60e6b5",
   "metadata": {},
   "outputs": [],
   "source": [
    "qc_ibmq =[]\n",
    "\n",
    "for p in range(2,11):\n",
    "    qc_ibmq.append( get_IBMQ_noise(qc[p-2]))\n",
    "    circuit = qc_ibmq[p-2]\n",
    "    #circuit.draw(output='mpl')\n"
   ]
  },
  {
   "cell_type": "markdown",
   "id": "010fadaf",
   "metadata": {},
   "source": [
    "# Print gates of the qoao circuit"
   ]
  },
  {
   "cell_type": "code",
   "execution_count": 105,
   "id": "3b529b5f",
   "metadata": {
    "tags": []
   },
   "outputs": [
    {
     "name": "stdout",
     "output_type": "stream",
     "text": [
      "p= 2\n",
      "33\n",
      "p= 3\n",
      "45\n",
      "p= 4\n",
      "57\n",
      "p= 5\n",
      "69\n",
      "p= 6\n",
      "81\n",
      "p= 7\n",
      "93\n",
      "p= 8\n",
      "105\n",
      "p= 9\n",
      "117\n",
      "p= 10\n",
      "129\n"
     ]
    }
   ],
   "source": [
    "for p in range(2,11):\n",
    "    print( 'p= %i'%p)\n",
    "    print_gates(qc[p-2])"
   ]
  },
  {
   "cell_type": "markdown",
   "id": "6d2bc34c",
   "metadata": {},
   "source": [
    "# Print gates of the qoao circuit in ibmq"
   ]
  },
  {
   "cell_type": "code",
   "execution_count": 106,
   "id": "35d334f5",
   "metadata": {
    "scrolled": true,
    "tags": []
   },
   "outputs": [
    {
     "name": "stdout",
     "output_type": "stream",
     "text": [
      "p= 2\n",
      "81\n",
      "p= 3\n",
      "113\n",
      "p= 4\n",
      "145\n",
      "p= 5\n",
      "177\n",
      "p= 6\n",
      "209\n",
      "p= 7\n",
      "241\n",
      "p= 8\n",
      "273\n",
      "p= 9\n",
      "305\n",
      "p= 10\n",
      "337\n"
     ]
    }
   ],
   "source": [
    "for p in range(2,11):\n",
    "    print('p= %i'%p)\n",
    "    print_gates(qc_ibmq[p-2])"
   ]
  },
  {
   "cell_type": "markdown",
   "id": "1e0a3b60",
   "metadata": {},
   "source": [
    "# Calculation cost of task"
   ]
  },
  {
   "cell_type": "code",
   "execution_count": 110,
   "id": "efdb69fc",
   "metadata": {},
   "outputs": [
    {
     "name": "stdout",
     "output_type": "stream",
     "text": [
      "p=2\n",
      "cost with 7 qubits 0.00 $, with 27 qubits 2.12 $ and with 127 qubits 12.58 $ \n",
      "p=3\n",
      "cost with 7 qubits 0.00 $, with 27 qubits 2.92 $ and with 127 qubits 18.02 $ \n",
      "p=4\n",
      "cost with 7 qubits 0.00 $, with 27 qubits 3.72 $ and with 127 qubits 23.46 $ \n",
      "p=5\n",
      "cost with 7 qubits 0.00 $, with 27 qubits 4.52 $ and with 127 qubits 28.90 $ \n",
      "p=6\n",
      "cost with 7 qubits 0.00 $, with 27 qubits 5.32 $ and with 127 qubits 34.34 $ \n",
      "p=7\n",
      "cost with 7 qubits 0.00 $, with 27 qubits 6.12 $ and with 127 qubits 39.78 $ \n",
      "p=8\n",
      "cost with 7 qubits 0.00 $, with 27 qubits 6.92 $ and with 127 qubits 45.22 $ \n",
      "p=9\n",
      "cost with 7 qubits 0.00 $, with 27 qubits 7.72 $ and with 127 qubits 50.66 $ \n",
      "p=10\n",
      "cost with 7 qubits 0.00 $, with 27 qubits 8.52 $ and with 127 qubits 56.10 $ \n"
     ]
    }
   ],
   "source": [
    "# 7 qubit systems is free, we calculate for 27 and 127 qubits system\n",
    "costs27 = []\n",
    "costs127 = []\n",
    "costs7 = []\n",
    "for p in range(2,11):\n",
    "    print('p=%i'%p)\n",
    "    view = PlatformsViewController(qc[p-2])\n",
    "    cost7 = view.get_cost_7(2, 1000)\n",
    "    costs7.append(cost7)\n",
    "    cost27 = view.get_cost_27(2, 1000)\n",
    "    costs27.append(cost27)\n",
    "    cost127 = view.get_cost_127(2, 1000)\n",
    "    costs127.append(cost127)\n",
    "    print('cost with 7 qubits %.2f $, with 27 qubits %.2f $ and with 127 qubits %.2f $ '%(cost7, cost27, cost127) )\n",
    "    #view.print_list_cost_platforms(2, 1000)\n",
    "    #view.print_list_card_of_platfotm(2, 1000)\n",
    "    #cost.append(view.total_costs)"
   ]
  },
  {
   "cell_type": "code",
   "execution_count": 112,
   "id": "3d66a6ec-756d-4f6f-8fde-d5b437a29d5d",
   "metadata": {},
   "outputs": [
    {
     "data": {
      "text/plain": [
       "<matplotlib.legend.Legend at 0x7f9d05922a30>"
      ]
     },
     "execution_count": 112,
     "metadata": {},
     "output_type": "execute_result"
    },
    {
     "data": {
      "image/png": "[encoded data removed]",
      "text/plain": [
       "<Figure size 432x288 with 1 Axes>"
      ]
     },
     "metadata": {
      "needs_background": "light"
     },
     "output_type": "display_data"
    }
   ],
   "source": [
    "import matplotlib.pyplot as plt\n",
    "\n",
    "p = range(2,11)\n",
    "\n",
    "fig = plt.figure()\n",
    "ax = fig.add_subplot(1, 1, 1)\n",
    "ax.plot(p, costs7, color='tab:blue', label = '7 qubits')\n",
    "ax.plot(p, costs27, color='tab:orange', label = '27 qubits')\n",
    "ax.plot(p, costs127, color= 'tab:red', label = '127 qubits')\n",
    "ax\n",
    "plt.legend()"
   ]
  },
  {
   "cell_type": "code",
   "execution_count": null,
   "id": "97ccf6cd-1938-4124-bd7e-977eebf8c69d",
   "metadata": {},
   "outputs": [],
   "source": []
  },
  {
   "cell_type": "code",
   "execution_count": null,
   "id": "4b3e44ca-35ec-4e69-aa3d-9260785797ed",
   "metadata": {},
   "outputs": [],
   "source": []
  },
  {
   "cell_type": "code",
   "execution_count": null,
   "id": "133cd2a8-b440-4842-a168-c26f5bb48286",
   "metadata": {},
   "outputs": [],
   "source": []
  }
 ],
 "metadata": {
  "kernelspec": {
   "display_name": "Python 3 (ipykernel)",
   "language": "python",
   "name": "python3"
  },
  "language_info": {
   "codemirror_mode": {
    "name": "ipython",
    "version": 3
   },
   "file_extension": ".py",
   "mimetype": "text/x-python",
   "name": "python",
   "nbconvert_exporter": "python",
   "pygments_lexer": "ipython3",
   "version": "3.9.6"
  }
 },
 "nbformat": 4,
 "nbformat_minor": 5
}
