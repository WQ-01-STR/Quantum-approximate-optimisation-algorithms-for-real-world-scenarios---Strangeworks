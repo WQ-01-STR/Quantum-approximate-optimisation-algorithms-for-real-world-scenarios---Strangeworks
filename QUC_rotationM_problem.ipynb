{
 "cells": [
  {
   "cell_type": "markdown",
   "id": "303bcf17",
   "metadata": {},
   "source": [
    "# Unit commitment Formulation \n",
    "\n",
    "Unit commitment(UC) problem is a fundamental nonlinear non-convex NP-hard optimization problem which makes finding optimal solution difficult. The problem is usually modeled as a mixed-integer programming. The objective of UC problem is to achieve a common target given a set of generating units  subject to  a set of constraints.\n",
    "\n",
    "The importance of the problem is reflected on the large different approaches suggested to solve the problem which requires requires fast decisions. Quantum computers may provide and advantage in this case.\n",
    "\n",
    "\n",
    "## Problem Statement\n",
    "\n",
    "The problem of Unit Commitment deals with what generators should be turned on/off and when depending on the demand so as to minimize costs.\n",
    "\n",
    " The setup is as follows. We have a power grid with various power generation units(nodes) that are connected by transmission lines. For simplicity, we assume that we have a set of nodes with one load. The transmission costs is identical(no edges in this case). To simplify the problem even furhter, we only consider one time step. Each node has a set of physical characterisctis: \n",
    " \n",
    " A: fixed cost of the unit when it is turned on regardless of the power level.\n",
    " \n",
    " B: linear cost based on the power level.\n",
    " \n",
    " C: quandratic cost based on the power level.\n",
    " \n",
    " Total cost per unit: $C(P) = A + B*P + C* P^2$ where $P$ is the allocatated power to the unit. Classical methods are used to find this paparmeter like economic dispatch.  The total cost is  the sum of the costs of the units that are on.\n",
    "\n",
    " \n",
    " \n",
    " $P_{min}$: minimum generation limit.\n",
    " \n",
    " $P_{max}$: maximum generation limit.\n",
    " \n",
    "There are many other operational parameters that can be added easily. For simplicity, we consider these. Fig. 1 demonstrates two ways that the load of a 4-unit system could be met while keeping within each unit’s\n",
    "constraints, and gives the cost of each configuration [[1]](https://arxiv.org/abs/2110.12624).\n",
    "\n",
    "\n",
    "![alt text](./images/uc.jpg \"ref[]\")\n",
    "\n",
    "\n",
    "\n",
    "Thus the  variant we are dealing with can be formulated as the following binary problem:\n",
    "\n",
    "$$\n",
    "\\begin{aligned}\n",
    " min & \\sum_{i=1}^{n} y_i C_i(P) = \\sum_{i=1}^{n}(y_i(A_i + B_i*P_i + C_i* P_{i}^{2}))\\\\\n",
    "  \\text{subject to} & \\\\\n",
    "&\\sum_{i=1}^{n} P_i = L \\\\\n",
    "& P_{min,i}  \\leq P_i y_i \\leq P_{max,i}\\\\\n",
    "\\end{aligned}\n",
    "$$\n",
    "\n",
    "Here, $y_i$ is a binary variable representing the state of the i-th generator ; 1 if on, 0 if\n",
    "off. $A_i,B_i , C_i$ are constants ,  $P_i  \\in \\mathbb{R}$. $L$ is the load.\n",
    "\n",
    "Following [[1]](https://arxiv.org/abs/2110.12624), we convert the constrained equation above into unconstrained one adding some penalty terms:\n",
    "\n",
    "\n",
    "$$\n",
    "\\begin{aligned}\n",
    " min & \\sum_{i=1}^{n} y_i C_i(P) = \\sum_{i=1}^{n}(y_i(A_i + B_i*P_i + C_i* P_{i}^{2}))\\\\\n",
    "  \\text{subject to} & \\\\\n",
    "&\\sum_{i=1}^{n} \\lambda_1 * y_i(P_i -L )^{2} \\\\\n",
    "&  \\lambda_2 * y_i(P_i -  s_{1,i} -  P_{min,i})^{2} \\\\\n",
    "&  \\lambda_3 * y_i(P_i +  s_{2,i} -  P_{max,i})^{2} \\\\\n",
    "\\end{aligned}\n",
    "$$\n",
    "\n",
    "where $\\lambda_1 , \\lambda_2 , \\lambda_3$ are some empirical constant , $s_{1,i} ,s_{2,i}$ are some penalty terms where $s_{1,i} = P_i -  P_{min,i}$ , $s_{2,i} = P_{max,i} - P_i$.\n",
    "\n",
    "\n",
    "## Algorithm overview\n",
    "\n",
    "We use QAOA to handle the problem of whether the unit is one or off and classical optimzer to handle the continuous variables $\\gamma_{j}$ , $\\beta_{j}$ and $P_{i}$ for $j = 1,2,...,p$ , for $i = 1,2,...,n$ where $n$ is the number of generating units and $p$ is the depth of the circuit. Our main task then would be to construct the cost layer( problem Hamiltonian ). For mixing Hamiltonian,  We will just use the default mixer layer with $R_X$ gates.\n",
    "\n",
    "Let the input bitstring represent $y$. The i-th qubit  will represent whether the i-th generator is on (|1⟩) or off (|0⟩). The function of a cost layer  is to take this input state and add a phase to it, with the phase angle being the cost of the input state times some $\\gamma_{i}$.\n",
    "\n",
    "We need convert  binary variables $y_i \\in \\{0, 1\\}$ to $z_i \\in \\{+1, −1\\}$  by using the transformation $z_i = 2y_i − 1$ to comply with the standard form for QUBOs solved by QAOA.\n",
    "\n",
    "[These Cost and Mixing Hamiltonian steps are repeated $P$ times before terminating measurements on each qubit.]\n",
    "\n",
    "The problem Hamiltonian specific to the above problem is:\n",
    "\n",
    "$$\n",
    "\\begin{aligned}\n",
    "H_p & = ??? \\\\\n",
    "U(H_p) &= e^{-i\\gamma H_p} = ???\n",
    "\\end{aligned}\n",
    "$$"
   ]
  },
  {
   "cell_type": "markdown",
   "id": "4fee6eb2",
   "metadata": {},
   "source": [
    "### The Initial State\n",
    "\n",
    "We use the default initial state of the QAOA\n",
    "\n",
    "$$\\lvert \\psi_0 \\rangle = \\bigg(\\frac{1}{\\sqrt{2}}\\big(\\lvert 0 \\rangle + \\lvert 1 \\rangle\\big)\\bigg)^{\\otimes n}$$\n"
   ]
  },
  {
   "cell_type": "code",
   "execution_count": 54,
   "id": "6b8885e2",
   "metadata": {},
   "outputs": [
    {
     "data": {
      "image/png": "[encoded data removed]",
      "text/plain": [
       "<Figure size 146.797x264.88 with 1 Axes>"
      ]
     },
     "execution_count": 54,
     "metadata": {},
     "output_type": "execute_result"
    }
   ],
   "source": [
    "qc_0 = QuantumCircuit(nqubits)\n",
    "for i in range(0, nqubits):\n",
    "    qc_0.h(i)\n",
    "    \n",
    "qc_0.draw(\"mpl\")"
   ]
  },
  {
   "cell_type": "markdown",
   "id": "8e205a21",
   "metadata": {},
   "source": [
    "### The Mixing Hamiltonian\n"
   ]
  },
  {
   "cell_type": "code",
   "execution_count": 64,
   "id": "d7f7312f",
   "metadata": {},
   "outputs": [
    {
     "data": {
      "image/png": "[encoded data removed]",
      "text/plain": [
       "<Figure size 146.797x264.88 with 1 Axes>"
      ]
     },
     "execution_count": 64,
     "metadata": {},
     "output_type": "execute_result"
    }
   ],
   "source": [
    "from qiskit import QuantumCircuit , QuantumRegister\n",
    "from qiskit.tools.visualization import circuit_drawer\n",
    "from qiskit.circuit import Parameter , ParameterVector\n",
    "from qiskit.circuit import Gate\n",
    "\n",
    "nqubits = 4\n",
    "qr = QuantumRegister(nqubits, 'q')\n",
    "\n",
    "qc_mix = QuantumCircuit(nqubits)\n",
    "\n",
    "beta = Parameter(\"$\\\\beta_1$\")\n",
    "\n",
    "qc_mix.rx(2 *beta, qr)\n",
    "\n",
    "qc_mix.draw(\"mpl\")"
   ]
  },
  {
   "cell_type": "markdown",
   "id": "91968c47",
   "metadata": {},
   "source": [
    " ### The Problem Hamiltonian\n",
    "Since the cost function terms are independent and commutative."
   ]
  },
  {
   "cell_type": "code",
   "execution_count": 56,
   "id": "5efead03",
   "metadata": {},
   "outputs": [
    {
     "data": {
      "image/png": "[encoded data removed]",
      "text/plain": [
       "<Figure size 688.597x264.88 with 1 Axes>"
      ]
     },
     "execution_count": 56,
     "metadata": {},
     "output_type": "execute_result"
    }
   ],
   "source": [
    "    ## all this represent cost layer\n",
    "gamma = Parameter(\"$ 2* \\\\gamma$\")\n",
    "qc_p = QuantumCircuit(qr)\n",
    "\n",
    "Cp = Gate(name=\"$U_{Cp}$\", num_qubits=4, params=[gamma])\n",
    "CL = Gate(name=\"$U_{CL}$\", num_qubits=4, params=[gamma])\n",
    "Cmin = Gate(name=\"$U_{Cmin}$\", num_qubits=4, params=[gamma])\n",
    "Cmax = Gate(name=\"$U_{Cmax}$\", num_qubits=4, params=[gamma])\n",
    "\n",
    "qc_p.append(Cp , qr)\n",
    "qc_p.barrier()\n",
    "\n",
    "qc_p.append(CL , qr)\n",
    "qc_p.barrier()\n",
    "\n",
    "qc_p.append(Cmin , qr)\n",
    "qc_p.barrier()\n",
    "\n",
    "qc_p.append(Cmax , qr)\n",
    "qc_p.barrier()\n",
    "\n",
    "qc_p.draw(\"mpl\")"
   ]
  },
  {
   "cell_type": "markdown",
   "id": "a63b3d15",
   "metadata": {},
   "source": [
    "where $Cp$ corresponds to the first term of the cost function above, $CL$ , $Cmin$ and $Cmax$ correspond to the following constraints. "
   ]
  },
  {
   "cell_type": "code",
   "execution_count": 57,
   "id": "62cdf14e",
   "metadata": {
    "scrolled": false
   },
   "outputs": [
    {
     "data": {
      "image/png": "[encoded data removed]",
      "text/plain": [
       "<Figure size 1049.8x264.88 with 1 Axes>"
      ]
     },
     "execution_count": 57,
     "metadata": {},
     "output_type": "execute_result"
    }
   ],
   "source": [
    "## A brute-Force circuit :)\n",
    "\n",
    "qr = QuantumRegister(nqubits, 'q')\n",
    "qc_p = QuantumCircuit(qr)\n",
    "\n",
    "# Add the first cost circuit\n",
    "gammacp1 = Parameter(\"$  \\\\gamma_1 (A_1 + B_1*P_1 + C_1* P_{1}^{2})$\")\n",
    "qc_p.rz(2 * gammacp1, qr[0])\n",
    "\n",
    "gammacp2 = Parameter(\"$  \\\\gamma_1 (A_2 + B_1*P_2 + C_2* P_{2}^{2})$\")\n",
    "qc_p.rz(2 * gammacp2, qr[1])\n",
    "\n",
    "gammacp3 = Parameter(\"$  \\\\gamma_1 (A_3 + B_1*P_1 + C_1* P_{3}^{2})$\")\n",
    "qc_p.rz(2 * gammacp3, qr[2])\n",
    "\n",
    "gammacp4 = Parameter(\"$  \\\\gamma_1 (A_4 + B_1*P_1 + C_4* P_{4}^{2})$\")\n",
    "qc_p.rz(2 * gammacp4, qr[3])\n",
    "\n",
    "qc_p.barrier()\n",
    "# Add the second cost circuit\n",
    "\n",
    "gammacl1 = Parameter(\"$  \\\\gamma_1 \\\\lambda_1(P_1 - L)^{2}$\")\n",
    "qc_p.rz(2 * gammacl1, qr[0])\n",
    "\n",
    "gammacl2 = Parameter(\"$  \\\\gamma_1 \\\\lambda_1(P_2 - L)^{2}$\")\n",
    "qc_p.rz(2 * gammacl2, qr[1])\n",
    "\n",
    "gammacl3 = Parameter(\"$  \\\\gamma_1 \\\\lambda_1(P_3 - L)^{2}$\")\n",
    "qc_p.rz(2 * gammacl3, qr[2])\n",
    "\n",
    "gammacl4 = Parameter(\"$  \\\\gamma_1 \\\\lambda_1(P_4 - L)^{2}$\")\n",
    "qc_p.rz(2 * gammacl4, qr[3])\n",
    "\n",
    "qc_p.barrier()\n",
    "# Add the third cost circuit\n",
    "gammacmin1 = Parameter(\"$  \\\\gamma_1 \\\\lambda_2(P_1 - s_{1,1} - p_{min,1})^{2} $\")\n",
    "qc_p.rz(2 * gammacmin1, qr[0])\n",
    "\n",
    "gammacmin2 = Parameter(\"$   \\\\gamma_1 \\\\lambda_2(P_2 - s_{1,2} - p_{min,2})^{2} $\")\n",
    "qc_p.rz(2 * gammacmin2, qr[1])\n",
    "\n",
    "gammacmin3 = Parameter(\"$  \\\\gamma_1 \\\\lambda_2(P_3 - s_{1,3} - p_{min,3})^{2} $\")\n",
    "qc_p.rz(2 * gammacmin3, qr[2])\n",
    "\n",
    "gammacmin4 = Parameter(\"$  \\\\gamma_1 \\\\lambda_2(P_4 - s_{1,4} - p_{min,4})^{2} $\")\n",
    "qc_p.rz(2 * gammacmin4, qr[3])\n",
    "\n",
    "qc_p.barrier()\n",
    "# Add the fourth cost circuit\n",
    "\n",
    "gammacmax1 = Parameter(\"$  \\\\gamma_1 \\\\lambda_1(P_1 + s_{1,1} - p_{max,1})^{2} $\")\n",
    "qc_p.rz(2 * gammacmax1, qr[0])\n",
    "\n",
    "gammacmax2 = Parameter(\"$  \\\\gamma_1 \\\\lambda_2(P_1 + s_{1,2} - p_{max,2})^{2} $\")\n",
    "qc_p.rz(2 * gammacmax2, qr[1])\n",
    "\n",
    "gammacmax3 = Parameter(\"$  \\\\gamma_1 \\\\lambda_3(P_1 + s_{1,3} - p_{max,3})^{2} $\")\n",
    "qc_p.rz(2 * gammacmax3, qr[2])\n",
    "\n",
    "gammacmax4 = Parameter(\"$  \\\\gamma_1 \\\\lambda_4(P_1 + s_{1,4} - p_{max,4})^{2} $\")\n",
    "qc_p.rz(2 * gammacmax4, qr[3])\n",
    "qc_p.barrier()\n",
    "qc_p.barrier()\n",
    "\n",
    "\n",
    "qc_p.draw(\"mpl\")"
   ]
  },
  {
   "cell_type": "code",
   "execution_count": null,
   "id": "87fc24af",
   "metadata": {},
   "outputs": [],
   "source": []
  },
  {
   "cell_type": "markdown",
   "id": "577206dc",
   "metadata": {},
   "source": [
    "## Putting it all together\n"
   ]
  },
  {
   "cell_type": "code",
   "execution_count": 73,
   "id": "5a173d53",
   "metadata": {
    "scrolled": false
   },
   "outputs": [
    {
     "data": {
      "image/png": "[encoded data removed]",
      "text/plain": [
       "<Figure size 1561.68x325.08 with 1 Axes>"
      ]
     },
     "execution_count": 73,
     "metadata": {},
     "output_type": "execute_result"
    }
   ],
   "source": [
    "## A brute-Force circuit :)\n",
    "\n",
    "qr = QuantumRegister(nqubits, 'q')\n",
    "qc_p = QuantumCircuit(qr)\n",
    "\n",
    "for i in range(0, nqubits):\n",
    "    qc_p.h(i)\n",
    "\n",
    "\n",
    "qc_p.barrier()\n",
    "\n",
    "# Add the first cost circuit\n",
    "gammacp1 = Parameter(\"$  \\\\gamma_1 (A_1 + B_1*P_1 + C_1* P_{1}^{2})$\")\n",
    "qc_p.rz(2 * gammacp1, qr[0])\n",
    "\n",
    "gammacp2 = Parameter(\"$  \\\\gamma_1 (A_2 + B_2*P_2 + C_2* P_{2}^{2})$\")\n",
    "qc_p.rz(2 * gammacp2, qr[1])\n",
    "\n",
    "gammacp3 = Parameter(\"$  \\\\gamma_1 (A_3 + B_3*P_1 + C_1* P_{3}^{2})$\")\n",
    "qc_p.rz(2 * gammacp3, qr[2])\n",
    "\n",
    "gammacp4 = Parameter(\"$  \\\\gamma_1 (A_4 + B_4*P_1 + C_4* P_{4}^{2})$\")\n",
    "qc_p.rz(2 * gammacp4, qr[3])\n",
    "\n",
    "qc_p.barrier()\n",
    "# Add the second cost circuit\n",
    "\n",
    "gammacl1 = Parameter(\"$  \\\\gamma_1 \\\\lambda_1(P_1 - L)^{2}$\")\n",
    "qc_p.rz(2 * gammacl1, qr[0])\n",
    "\n",
    "gammacl2 = Parameter(\"$  \\\\gamma_1 \\\\lambda_1(P_2 - L)^{2}$\")\n",
    "qc_p.rz(2 * gammacl2, qr[1])\n",
    "\n",
    "gammacl3 = Parameter(\"$  \\\\gamma_1 \\\\lambda_1(P_3 - L)^{2}$\")\n",
    "qc_p.rz(2 * gammacl3, qr[2])\n",
    "\n",
    "gammacl4 = Parameter(\"$  \\\\gamma_1 \\\\lambda_1(P_4 - L)^{2}$\")\n",
    "qc_p.rz(2 * gammacl4, qr[3])\n",
    "\n",
    "qc_p.barrier()\n",
    "# Add the third cost circuit\n",
    "gammacmin1 = Parameter(\"$  \\\\gamma_1 \\\\lambda_2(P_1 - s_{1,1} - p_{min,1})^{2} $\")\n",
    "qc_p.rz(2 * gammacmin1, qr[0])\n",
    "\n",
    "gammacmin2 = Parameter(\"$   \\\\gamma_1 \\\\lambda_2(P_2 - s_{1,2} - p_{min,2})^{2} $\")\n",
    "qc_p.rz(2 * gammacmin2, qr[1])\n",
    "\n",
    "gammacmin3 = Parameter(\"$  \\\\gamma_1 \\\\lambda_2(P_3 - s_{1,3} - p_{min,3})^{2} $\")\n",
    "qc_p.rz(2 * gammacmin3, qr[2])\n",
    "\n",
    "gammacmin4 = Parameter(\"$  \\\\gamma_1 \\\\lambda_2(P_4 - s_{1,4} - p_{min,4})^{2} $\")\n",
    "qc_p.rz(2 * gammacmin4, qr[3])\n",
    "\n",
    "qc_p.barrier()\n",
    "# Add the fourth cost circuit\n",
    "\n",
    "gammacmax1 = Parameter(\"$  \\\\gamma_1 \\\\lambda_1(P_1 + s_{1,1} - p_{max,1})^{2} $\")\n",
    "qc_p.rz(2 * gammacmax1, qr[0])\n",
    "\n",
    "gammacmax2 = Parameter(\"$  \\\\gamma_1 \\\\lambda_2(P_1 + s_{1,2} - p_{max,2})^{2} $\")\n",
    "qc_p.rz(2 * gammacmax2, qr[1])\n",
    "\n",
    "gammacmax3 = Parameter(\"$  \\\\gamma_1 \\\\lambda_3(P_1 + s_{1,3} - p_{max,3})^{2} $\")\n",
    "qc_p.rz(2 * gammacmax3, qr[2])\n",
    "\n",
    "gammacmax4 = Parameter(\"$  \\\\gamma_1 \\\\lambda_4(P_1 + s_{1,4} - p_{max,4})^{2} $\")\n",
    "qc_p.rz(2 * gammacmax4, qr[3])\n",
    "\n",
    "qc_p.barrier()\n",
    "\n",
    "# Add the first mixer layer\n",
    "\n",
    "beta1 = Parameter(\"$\\\\beta_1$\")\n",
    "\n",
    "\n",
    "qc_p.rx(2 *beta1, qr)\n",
    "\n",
    "\n",
    "qc_p.measure_all()\n",
    "\n",
    "qc_p.barrier()\n",
    "\n",
    "\n",
    "qc_p.draw(\"mpl\")"
   ]
  },
  {
   "cell_type": "markdown",
   "id": "79ee4382",
   "metadata": {},
   "source": [
    "### Implementation\n",
    "\n",
    "TODO"
   ]
  },
  {
   "cell_type": "code",
   "execution_count": null,
   "id": "0f2ee4c7",
   "metadata": {},
   "outputs": [],
   "source": []
  },
  {
   "cell_type": "code",
   "execution_count": 66,
   "id": "94be52cb",
   "metadata": {},
   "outputs": [],
   "source": [
    "\n",
    "\n",
    "import numpy as np\n",
    "\n",
    "\n",
    "class Node:\n",
    "\n",
    "    def __init__(self, A, B, C, minCapacity , maxCapacity):\n",
    "        self.A = A\n",
    "        self.B = B\n",
    "        self.C = C\n",
    "        self.minCapacity = minCapacity\n",
    "        self.maxCapacity = maxCapacity\n",
    "    def cost(p):\n",
    "        assert p > self.minCapacity , \"power should be greater than minimum power\"\n",
    "        assert p < self.maxCapacity, \"power should be smaller than maximum power\"\n",
    "        return A + B*p + C * p**2\n",
    "    \n"
   ]
  },
  {
   "cell_type": "code",
   "execution_count": 67,
   "id": "fb0fcc19",
   "metadata": {},
   "outputs": [],
   "source": [
    "## Edges are not used in this simple example\n",
    "class Edge:\n",
    "\n",
    "    def __init__(self, node1, node2, transmission_cost):\n",
    "        self.node1 = node1\n",
    "        self.node2 = node2\n",
    "        self.transmission_cost = transmission_cost\n"
   ]
  },
  {
   "cell_type": "code",
   "execution_count": 68,
   "id": "b5ae2db1",
   "metadata": {},
   "outputs": [],
   "source": [
    "def input_nodes():\n",
    "    n=int(input(\"Enter number of nodes: \"))\n",
    "    print(\"Enter ABC for each node: \")\n",
    "    nodes = []\n",
    "    for i in range(0, n):\n",
    "        a=int(input(\"Enter a: \"))\n",
    "        b=int(input(\"Enter b: \"))\n",
    "        c=int(input(\"Enter c: \"))\n",
    "        minC=int(input(\"Enter minimum capacity: \"))\n",
    "        maxC=int(input(\"Enter maximum capacity: \"))\n",
    "        nodes.append(Node(a , b , c , minC , maxC))\n",
    "\n",
    "    print(\"nodes added successfuly!\")\n",
    "    return nodes"
   ]
  },
  {
   "cell_type": "code",
   "execution_count": 69,
   "id": "678865b3",
   "metadata": {},
   "outputs": [],
   "source": [
    "\n",
    "class UCProblem:\n",
    "\n",
    "    def __init__(self, load , Nodes):\n",
    "        self.load = load\n",
    "        self.Nodes = Nodes\n",
    "        #self.Edges = Edges\n",
    "        #self.timestep_count = timestep_count\n",
    "        #self.grid_timesteps = [Grid(lines, nodes, [True for _ in nodes]) for t in timestep_count]\n",
    "\n",
    "    def compute_cost(self , pCommit):\n",
    "        total_Cost = 0.0\n",
    "        for index in range(len(self.Nodes)):\n",
    "            total_Cost  =+ nodes[index].cost(pCommit[index])\n",
    "        return  total_Cost   \n",
    "    def compute_power_distribution():\n",
    "        return\n",
    "        #todo"
   ]
  },
  {
   "cell_type": "code",
   "execution_count": 70,
   "id": "bbee3c5f",
   "metadata": {},
   "outputs": [
    {
     "ename": "NameError",
     "evalue": "name 'nodes' is not defined",
     "output_type": "error",
     "traceback": [
      "\u001b[0;31m---------------------------------------------------------------------------\u001b[0m",
      "\u001b[0;31mNameError\u001b[0m                                 Traceback (most recent call last)",
      "Input \u001b[0;32mIn [70]\u001b[0m, in \u001b[0;36m<cell line: 3>\u001b[0;34m()\u001b[0m\n\u001b[1;32m      1\u001b[0m pCommit \u001b[38;5;241m=\u001b[39m [\u001b[38;5;241m30\u001b[39m,\u001b[38;5;241m30\u001b[39m,\u001b[38;5;241m30\u001b[39m]\n\u001b[1;32m      2\u001b[0m load  \u001b[38;5;241m=\u001b[39m \u001b[38;5;241m100.0\u001b[39m\n\u001b[0;32m----> 3\u001b[0m uc  \u001b[38;5;241m=\u001b[39m UCProblem(load , \u001b[43mnodes\u001b[49m)\n\u001b[1;32m      4\u001b[0m \u001b[38;5;28mprint\u001b[39m(\u001b[38;5;124m'\u001b[39m\u001b[38;5;124mtotal cost=$ \u001b[39m\u001b[38;5;132;01m%.3f\u001b[39;00m\u001b[38;5;124m'\u001b[39m\u001b[38;5;241m%\u001b[39m(uc\u001b[38;5;241m.\u001b[39mcompute_cost(pCommit)))\n",
      "\u001b[0;31mNameError\u001b[0m: name 'nodes' is not defined"
     ]
    }
   ],
   "source": [
    "pCommit = [30,30,30]\n",
    "load  = 100.0\n",
    "uc  = UCProblem(load , nodes)\n",
    "print('total cost=$ %.3f'%(uc.compute_cost(pCommit)))\n"
   ]
  },
  {
   "cell_type": "markdown",
   "id": "49a19428",
   "metadata": {},
   "source": [
    "## Example with Exact classical solution (TODO)\n",
    "\n",
    "We will use IBM [CPLEX](https://www.ibm.com/analytics/cplex-optimizer) to approximate a solution of a station having $10$ units with the characterisitcs shown on table (1)\n",
    "\n",
    "\n",
    "\n",
    "\n",
    "![alt text](./images/table1.jpg \"ref[]\")\n",
    "\n",
    "\n",
    "\n"
   ]
  },
  {
   "cell_type": "code",
   "execution_count": null,
   "id": "1febd4ac",
   "metadata": {},
   "outputs": [],
   "source": []
  },
  {
   "cell_type": "markdown",
   "id": "91b3a05a",
   "metadata": {},
   "source": [
    "## Conclusion (TODO)\n",
    "\n",
    "Number of gates required is $O(3N*P)$  where $N$ is the number of nodes and $P$ is the depth of the circuit."
   ]
  },
  {
   "cell_type": "markdown",
   "id": "6b091712",
   "metadata": {},
   "source": [
    "####  References\n",
    "\n",
    "- [[1] Adapting Quantum Approximation Optimization Algorithm (QAOA) for Unit Commitment\n",
    "](https://arxiv.org/abs/2110.12624) by Samantha Koretsky et al."
   ]
  },
  {
   "cell_type": "code",
   "execution_count": null,
   "id": "f82d22d3",
   "metadata": {},
   "outputs": [],
   "source": []
  }
 ],
 "metadata": {
  "kernelspec": {
   "display_name": "Python 3 (ipykernel)",
   "language": "python",
   "name": "python3"
  },
  "language_info": {
   "codemirror_mode": {
    "name": "ipython",
    "version": 3
   },
   "file_extension": ".py",
   "mimetype": "text/x-python",
   "name": "python",
   "nbconvert_exporter": "python",
   "pygments_lexer": "ipython3",
   "version": "3.10.4"
  }
 },
 "nbformat": 4,
 "nbformat_minor": 5
}
