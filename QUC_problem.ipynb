{
 "cells": [
  {
   "cell_type": "markdown",
   "id": "6c60edfc",
   "metadata": {},
   "source": [
    "# Unit commitment Formulation \n",
    "\n",
    "Unit commitment(UC) problem is a fundamental nonlinear non-convex NP-hard optimization problem which makes finding optimal solution difficult. The problem is usually modeled as a mixed-integer programming. The objective of UC problem is to achieve a common target given a set of generating units  subject to  a set of constraints.\n",
    "\n",
    "The importance of the problem is reflected on the large different approaches suggested to solve the problem which requires requires fast decisions. Quantum computers may provide and advantage in this case.\n",
    "\n",
    "\n",
    "## Problem Statement\n",
    "\n",
    "The problem of Unit Commitment deals with what generators should be turned on/off and when depending on the demand so as to minimize costs.\n",
    "\n",
    " The setup is as follows. We have a power grid with various power generation units(nodes) that are connected by transmission lines. For simplicty, we assume that we have a set of nodes with one load. The transmion costs is identical(no edges in this case). To simplify the problem furhter, we nly consider one time step. Each node has a set of physical characterisctis: \n",
    " \n",
    " A: fixed cost of the unit when it is turned on regardless of the power level.\n",
    " \n",
    " B: linear cost based on the power level.\n",
    " \n",
    " C: quandratic cost based on the power level.\n",
    " \n",
    " Total cost per unit: $C(P) = A + B*P + C* P^2$ where $P$ is the allocatated power to the unit. Classical methods are used to find this paparmeter like economic dispatch.  The total cost is  the sum of the costs of the units that are on.\n",
    "\n",
    " \n",
    " \n",
    " $P_{min}$: minimum generation limit.\n",
    " \n",
    " $P_{max}$: maximum generation limit.\n",
    " \n",
    "There are many other operational parameters that can be added easily. For simplicity, we consider these. Fig. 1 demonstrates two ways that the load of a 4-unit system could be met while keeping within each unit’s\n",
    "constraints, and gives the cost of each configuration [[1]](https://arxiv.org/abs/2110.12624).\n",
    "\n",
    "\n",
    "![alt text](uc.jpg \"ref[]\")\n",
    "\n",
    "\n",
    "\n",
    "Thus the  variant we are dealing with can be formulated as the following binary problem:\n",
    "\n",
    "$$\n",
    "\\begin{aligned}\n",
    " min & \\sum_{i=1}^{n} y_i C_i(P) = \\sum_{i=1}^{n}(y_i(A_i + B_i*P_i + C_i* P_{i}^{2}))\\\\\n",
    "  \\text{subject to} & \\\\\n",
    "&\\sum_{i=1}^{n} P_i = L \\\\\n",
    "& P_{min,i}  \\leq P_i y_i \\leq P_{max,i}\\\\\n",
    "\\end{aligned}\n",
    "$$\n",
    "\n",
    "Here, $y_i$ is a binary variable representing the state of the i-th generator ; 1 if on, 0 if\n",
    "off. $A_i,B_i , C_i$ are constants ,  $P_i  \\in \\mathbb{R}$.\n",
    "\n",
    "Following [[1]](https://arxiv.org/abs/2110.12624), we convert the constrained equation above into unconstrained one adding some penalty terms:\n",
    "\n",
    "\n",
    "$$\n",
    "\\begin{aligned}\n",
    " min & \\sum_{i=1}^{n} y_i C_i(P) = \\sum_{i=1}^{n}(y_i(A_i + B_i*P_i + C_i* P_{i}^{2}))\\\\\n",
    "  \\text{subject to} & \\\\\n",
    "&\\sum_{i=1}^{n} \\lambda_1 * y_i(P_i -L )^{2} \\\\\n",
    "&  \\lambda_2 * y_i(P_i -  s_{1,i} -  P_{min,i})^{2} \\\\\n",
    "&  \\lambda_3 * y_i(P_i +  s_{2,i} -  P_{max,i})^{2} \\\\\n",
    "\\end{aligned}\n",
    "$$\n",
    "\n",
    "where $\\lambda_1 , \\lambda_2 , \\lambda_3$ are some empirical constant , $s_{1,i} ,s_{2,i}$ are some penalty terms where $s_{1,i} = P_i -  P_{min,i}$ , $s_{2,i} = P_{min,i} - P_i$.\n",
    "\n",
    "\n",
    "## Algorithm overview\n",
    "\n",
    "We use QAOA to handle the problem of whether the unit is one or off and classical optimzer to handle the continuous variables $\\gamma_{i}$ , $\\beta_{i}$ and $P_{i}$ for $i = 1,2,...,n$. where $n$ is the number of generating units . Our main task then would be to construct the cost layer.For mixer Hamiltonian,  We will just use the default mixer layer with $R_X$ gates.\n",
    "\n",
    "Let the input binary bitstring represent $y$. The i-th qubit  will represent whether\n",
    "the i-th generator is on (|1⟩) or off (|0⟩). The function of a cost layer is to take\n",
    "this input state and add a phase to it, with the phase angle being the cost of the input state\n",
    "times some $\\gamma_{i}$.\n"
   ]
  },
  {
   "cell_type": "markdown",
   "id": "e9d02fdc",
   "metadata": {},
   "source": []
  },
  {
   "cell_type": "code",
   "execution_count": null,
   "id": "d95a25cd",
   "metadata": {},
   "outputs": [],
   "source": []
  },
  {
   "cell_type": "code",
   "execution_count": null,
   "id": "cd551b14",
   "metadata": {},
   "outputs": [],
   "source": [
    "import numpy as np\n"
   ]
  },
  {
   "cell_type": "code",
   "execution_count": 5,
   "id": "239d88c2",
   "metadata": {},
   "outputs": [],
   "source": [
    "class Node:\n",
    "\n",
    "    def __init__(self, A, B, C, minCapacity , maxCapacity):\n",
    "        self.A = A\n",
    "        self.B = B\n",
    "        self.C = C\n",
    "        self.minCapacity = minCapacity\n",
    "        self.maxCapacity = maxCapacity\n",
    "    def cost(p):\n",
    "        assert p > self.minCapacity , \"power should be greater than minimum power\"\n",
    "        assert p < self.maxCapacity, \"power should be smaller than maximum power\"\n",
    "        return A + B*p + C * p**2\n"
   ]
  },
  {
   "cell_type": "code",
   "execution_count": 6,
   "id": "fb0fcc19",
   "metadata": {},
   "outputs": [],
   "source": [
    "class Edge:\n",
    "\n",
    "    def __init__(self, node1, node2, transmission_cost):\n",
    "        self.node1 = node1\n",
    "        self.node2 = node2\n",
    "        self.transmission_cost = transmission_cost\n"
   ]
  },
  {
   "cell_type": "code",
   "execution_count": null,
   "id": "b5ae2db1",
   "metadata": {},
   "outputs": [],
   "source": []
  },
  {
   "cell_type": "code",
   "execution_count": 26,
   "id": "678865b3",
   "metadata": {},
   "outputs": [],
   "source": [
    "\n",
    "class UCProblem:\n",
    "\n",
    "    def __init__(self, load , Nodes):\n",
    "        self.load = load\n",
    "        self.Nodes = Nodes\n",
    "        #self.Edges = Edges\n",
    "        #self.timestep_count = timestep_count\n",
    "        #self.grid_timesteps = [Grid(lines, nodes, [True for _ in nodes]) for t in timestep_count]\n",
    "\n",
    "    def compute_cost(self , pCommit):\n",
    "        total_Cost = 0.0\n",
    "        for index in range(len(self.Nodes)):\n",
    "            total_Cost  =+ nodes[index].cost(pCommit[index])\n",
    "        return  total_Cost   \n",
    "    def compute_power_distribution():\n",
    "        return\n",
    "        #todo"
   ]
  },
  {
   "cell_type": "code",
   "execution_count": 27,
   "id": "8fa1f893",
   "metadata": {},
   "outputs": [
    {
     "name": "stdout",
     "output_type": "stream",
     "text": [
      "Enter number of nodes: 2\n",
      "Enter ABC for each node: \n",
      "Enter a: 2\n",
      "Enter b: 2\n",
      "Enter c: 2\n",
      "Enter minimum capacity: 2\n",
      "Enter maximum capacity: 2\n",
      "Enter a: 2\n",
      "Enter b: 2\n",
      "Enter c: 2\n",
      "Enter minimum capacity: 2\n",
      "Enter maximum capacity: 2\n",
      "nodes added successfuly!\n"
     ]
    }
   ],
   "source": [
    "n=int(input(\"Enter number of nodes: \"))\n",
    "print(\"Enter ABC for each node: \")\n",
    "nodes = []\n",
    "for i in range(0, n):\n",
    "    a=int(input(\"Enter a: \"))\n",
    "    b=int(input(\"Enter b: \"))\n",
    "    c=int(input(\"Enter c: \"))\n",
    "    minC=int(input(\"Enter minimum capacity: \"))\n",
    "    maxC=int(input(\"Enter maximum capacity: \"))\n",
    "    nodes.append(Node(a , b , c , minC , maxC))\n",
    "    \n",
    "print(\"nodes added successfuly!\")\n"
   ]
  },
  {
   "cell_type": "code",
   "execution_count": 29,
   "id": "bbee3c5f",
   "metadata": {},
   "outputs": [
    {
     "name": "stdout",
     "output_type": "stream",
     "text": [
      "total cost=$ 1862.000\n"
     ]
    }
   ],
   "source": [
    "pCommit = [30,30,30]\n",
    "load  = 100.0\n",
    "uc  = UCProblem(load , nodes)\n",
    "print('total cost=$ %.3f'%(uc.compute_cost(pCommit)))\n"
   ]
  },
  {
   "cell_type": "markdown",
   "id": "848de869",
   "metadata": {},
   "source": [
    "####  References\n",
    "\n",
    "- [[1] Adapting Quantum Approximation Optimization Algorithm (QAOA) for Unit Commitment\n",
    "](https://arxiv.org/abs/2110.12624) by Samantha Koretsky et al."
   ]
  },
  {
   "cell_type": "code",
   "execution_count": null,
   "id": "dd796212",
   "metadata": {},
   "outputs": [],
   "source": []
  }
 ],
 "metadata": {
  "kernelspec": {
   "display_name": "Python 3 (ipykernel)",
   "language": "python",
   "name": "python3"
  },
  "language_info": {
   "codemirror_mode": {
    "name": "ipython",
    "version": 3
   },
   "file_extension": ".py",
   "mimetype": "text/x-python",
   "name": "python",
   "nbconvert_exporter": "python",
   "pygments_lexer": "ipython3",
   "version": "3.10.4"
  }
 },
 "nbformat": 4,
 "nbformat_minor": 5
}
